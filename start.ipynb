{
 "cells": [
  {
   "metadata": {},
   "cell_type": "markdown",
   "source": [
    "# Scientific Programming in Python\n",
    "## Final Project\n",
    "## Jeelka Hessenius und Luca Saur\n",
    "\\\n",
    "\\\n",
    "\\\n",
    "## Imports"
   ],
   "id": "218720d869201bb4"
  },
  {
   "cell_type": "code",
   "id": "adcd6d36",
   "metadata": {
    "ExecuteTime": {
     "end_time": "2025-02-18T18:43:21.154378Z",
     "start_time": "2025-02-18T18:43:21.151441Z"
    }
   },
   "source": [
    "import pandas as pd\n",
    "import matplotlib.pyplot as plt\n",
    "import torch\n",
    "import torch.nn as nn\n",
    "import torch.optim as optim\n",
    "import torch.utils.data as data\n",
    "import sklearn\n",
    "import sklearn.model_selection\n",
    "from sklearn.preprocessing import StandardScaler\n",
    "import numpy as np\n",
    "import torchviz\n",
    "import graphviz\n"
   ],
   "outputs": [],
   "execution_count": 38
  },
  {
   "metadata": {},
   "cell_type": "markdown",
   "source": [
    "## Data loading\n",
    "### Moodnoodles Data\n",
    "\n",
    "**Moodnoodles** is a website built by Luca that allows you to track wellbeing, habits and other things. It has been used daily by Jeelka and Luca for the past two months to generate the dataset we are using for this project. Please visit <https://moodnoodles.com> to familiarize yourself with the setup.\n",
    "\n",
    "We have chosen a **subset** of our tracked data and exported it as csv file. In the following code block we load the data and refactor the complicated user_id for simplicity purposes so that now Luca's user_id is 0 and Jeelka's is 1.\n",
    "### Clockify Data\n",
    "\n",
    "Additionally, we track work time using Clockify. For their set-up check out <https://app.clockify.me/tracker>. In general, we make sure to track the minimal work-time possible such that short breaks etc. are not included. Even though in Clockify we track work-time per project, for this assignment we decided to export our data grouped by day. This is because we are interested in how our total work-time per day affected our well-being without considering the effect of working on specific projects.\\\n",
    "\n",
    "In the code block below we read in the data from our Clockify data set and select the relevant columns \"Date\" and \"Time..decimal.\". Converting the \"Date\" column into date format will later help us to join this dataframe onto our main data set."
   ],
   "id": "e79db5401fcb553b"
  },
  {
   "cell_type": "code",
   "id": "initial_id",
   "metadata": {
    "collapsed": true,
    "ExecuteTime": {
     "end_time": "2025-02-18T18:43:21.280842Z",
     "start_time": "2025-02-18T18:43:21.256480Z"
    }
   },
   "source": [
    "# Load data\n",
    "# wellbeing.csv containts the self reported data of two participants\n",
    "df = pd.read_csv('data/wellbeing.csv')\n",
    "\n",
    "# worktime_jeelka.csv and worktime_luca.csv contain the worktime data of the two participants\n",
    "df_wt_0 = pd.read_csv('data/worktime_jeelka.csv')\n",
    "df_wt_1 = pd.read_csv('data/worktime_luca.csv')\n",
    "\n",
    "# drop User column because we user_id from wellbeing.csv later\n",
    "df_wt_0.drop(columns=['User'], inplace=True)\n",
    "\n",
    "# drop time (h) because we use time decimal\n",
    "df_wt_0.drop(columns=['Time (h)'], inplace=True)\n",
    "df_wt_1.drop(columns=['Time (h)'], inplace=True)\n",
    "\n",
    "# Rename Date column to match date from wellbeing.csv and Time (decimal) to time\n",
    "df_wt_0.rename(columns={'Date': 'date', 'Time (decimal)': 'time'}, inplace=True)\n",
    "df_wt_1.rename(columns={'Date': 'date', 'Time (decimal)': 'time'}, inplace=True)\n",
    "\n",
    "# convert all to datetime\n",
    "df['date'] = pd.to_datetime(df['date'], dayfirst=False)\n",
    "df_wt_0['date'] = pd.to_datetime(df_wt_0['date'], dayfirst=True)\n",
    "df_wt_1['date'] = pd.to_datetime(df_wt_1['date'], dayfirst=True)\n",
    "\n",
    "# convert uuid user_ids to binary (two people in this data set)\n",
    "df['user_id'] = df['user_id'].apply(lambda x: 0 if x in \"e0e084c5-2308-4080-b217-90d5875fa312\" else 1)\n",
    "df_0 = df[df['user_id'] == 0]\n",
    "df_1 = df[df['user_id'] == 1]\n",
    "\n",
    "# drop user_id in the dataframes, because it is implied by the dataframe used\n",
    "df_0 = df_0.drop(columns=['user_id'])\n",
    "df_1 = df_1.drop(columns=['user_id'])\n",
    "\n",
    "# merge worktime and wellbeing data for each person\n",
    "df_0 = df_0.merge(df_wt_0, on='date').reset_index(drop=True)\n",
    "df_1 = df_1.merge(df_wt_1, on='date').reset_index(drop=True)\n",
    "\n",
    "df_1"
   ],
   "outputs": [
    {
     "data": {
      "text/plain": [
       "         date  wellbeing meditated  sleep_time did_sport  steps sweets   walk  \\\n",
       "0  2024-12-21          6     False         8.5     False  11000    NaN    NaN   \n",
       "1  2024-12-22          7      True         8.0      True   7000    NaN    NaN   \n",
       "2  2024-12-27          6      True         9.0     False   8700   True   True   \n",
       "3  2024-12-23          6      True         8.0     False  17000    NaN    NaN   \n",
       "4  2024-12-25          6      True         8.0     False  14000   True   True   \n",
       "5  2024-12-26          6      True         7.0     False   9500   True   True   \n",
       "6  2024-12-30          6      True         7.5     False   6000   True   True   \n",
       "7  2024-12-28          7     False         8.0     False  11000   True   True   \n",
       "8  2024-12-29          6      True         7.5      True   2000   True  False   \n",
       "9  2024-12-31          7      True         7.5     False  23000   True   True   \n",
       "10 2025-01-02          6      True         8.0     False   7800  False   True   \n",
       "11 2025-01-03          6       NaN         9.0       NaN   5000    NaN    NaN   \n",
       "12 2025-01-04          6      True         9.0     False   7000   True   True   \n",
       "13 2025-01-05          8      True         9.0     False   8000   True   True   \n",
       "14 2025-01-06          8      True         9.0     False  10000   True   True   \n",
       "15 2025-01-07          6       NaN         9.0       NaN   4000    NaN    NaN   \n",
       "16 2025-01-08          6       NaN         8.5       NaN   8000   True    NaN   \n",
       "17 2025-01-09          7      True         8.0      True  16000  False   True   \n",
       "18 2025-01-10          6      True         8.0      True   7500   True   True   \n",
       "19 2025-01-11          7      True         8.0      True   8000  False   True   \n",
       "20 2025-01-13          6      True         8.0      True   6000  False   True   \n",
       "21 2025-01-12          6      True         7.5      True   7600   True   True   \n",
       "22 2025-01-14          7       NaN         8.0       NaN   9000    NaN    NaN   \n",
       "23 2025-01-15          7      True         7.5     False   7800  False   True   \n",
       "24 2025-01-16          7      True         8.3      True   7500  False   True   \n",
       "25 2025-01-17          7      True         8.0      True   8600  False   True   \n",
       "26 2025-01-18          8      True         8.2      True  14000  False   True   \n",
       "27 2025-01-19          8      True         8.0      True  12000   True   True   \n",
       "28 2025-01-20          8      True         6.5      True   6000   True   True   \n",
       "\n",
       "    time  Amount (EUR)  \n",
       "0   7.30          1.48  \n",
       "1   2.03           NaN  \n",
       "2   3.42           NaN  \n",
       "3   3.96           NaN  \n",
       "4   5.02           NaN  \n",
       "5   1.81           NaN  \n",
       "6   0.39          6.88  \n",
       "7   2.53           NaN  \n",
       "8   0.38          6.66  \n",
       "9   2.95         49.46  \n",
       "10  4.14         17.29  \n",
       "11  1.46           NaN  \n",
       "12  0.62           NaN  \n",
       "13  4.62           NaN  \n",
       "14  7.31         51.81  \n",
       "15  7.60          4.38  \n",
       "16  6.50          5.27  \n",
       "17  3.83         22.82  \n",
       "18  6.89         68.17  \n",
       "19  4.64          6.83  \n",
       "20  6.21         35.00  \n",
       "21  2.74           NaN  \n",
       "22  6.62         48.32  \n",
       "23  6.76           NaN  \n",
       "24  7.43         91.91  \n",
       "25  8.39         42.92  \n",
       "26  5.58           NaN  \n",
       "27  6.48           NaN  \n",
       "28  5.97           NaN  "
      ],
      "text/html": [
       "<div>\n",
       "<style scoped>\n",
       "    .dataframe tbody tr th:only-of-type {\n",
       "        vertical-align: middle;\n",
       "    }\n",
       "\n",
       "    .dataframe tbody tr th {\n",
       "        vertical-align: top;\n",
       "    }\n",
       "\n",
       "    .dataframe thead th {\n",
       "        text-align: right;\n",
       "    }\n",
       "</style>\n",
       "<table border=\"1\" class=\"dataframe\">\n",
       "  <thead>\n",
       "    <tr style=\"text-align: right;\">\n",
       "      <th></th>\n",
       "      <th>date</th>\n",
       "      <th>wellbeing</th>\n",
       "      <th>meditated</th>\n",
       "      <th>sleep_time</th>\n",
       "      <th>did_sport</th>\n",
       "      <th>steps</th>\n",
       "      <th>sweets</th>\n",
       "      <th>walk</th>\n",
       "      <th>time</th>\n",
       "      <th>Amount (EUR)</th>\n",
       "    </tr>\n",
       "  </thead>\n",
       "  <tbody>\n",
       "    <tr>\n",
       "      <th>0</th>\n",
       "      <td>2024-12-21</td>\n",
       "      <td>6</td>\n",
       "      <td>False</td>\n",
       "      <td>8.5</td>\n",
       "      <td>False</td>\n",
       "      <td>11000</td>\n",
       "      <td>NaN</td>\n",
       "      <td>NaN</td>\n",
       "      <td>7.30</td>\n",
       "      <td>1.48</td>\n",
       "    </tr>\n",
       "    <tr>\n",
       "      <th>1</th>\n",
       "      <td>2024-12-22</td>\n",
       "      <td>7</td>\n",
       "      <td>True</td>\n",
       "      <td>8.0</td>\n",
       "      <td>True</td>\n",
       "      <td>7000</td>\n",
       "      <td>NaN</td>\n",
       "      <td>NaN</td>\n",
       "      <td>2.03</td>\n",
       "      <td>NaN</td>\n",
       "    </tr>\n",
       "    <tr>\n",
       "      <th>2</th>\n",
       "      <td>2024-12-27</td>\n",
       "      <td>6</td>\n",
       "      <td>True</td>\n",
       "      <td>9.0</td>\n",
       "      <td>False</td>\n",
       "      <td>8700</td>\n",
       "      <td>True</td>\n",
       "      <td>True</td>\n",
       "      <td>3.42</td>\n",
       "      <td>NaN</td>\n",
       "    </tr>\n",
       "    <tr>\n",
       "      <th>3</th>\n",
       "      <td>2024-12-23</td>\n",
       "      <td>6</td>\n",
       "      <td>True</td>\n",
       "      <td>8.0</td>\n",
       "      <td>False</td>\n",
       "      <td>17000</td>\n",
       "      <td>NaN</td>\n",
       "      <td>NaN</td>\n",
       "      <td>3.96</td>\n",
       "      <td>NaN</td>\n",
       "    </tr>\n",
       "    <tr>\n",
       "      <th>4</th>\n",
       "      <td>2024-12-25</td>\n",
       "      <td>6</td>\n",
       "      <td>True</td>\n",
       "      <td>8.0</td>\n",
       "      <td>False</td>\n",
       "      <td>14000</td>\n",
       "      <td>True</td>\n",
       "      <td>True</td>\n",
       "      <td>5.02</td>\n",
       "      <td>NaN</td>\n",
       "    </tr>\n",
       "    <tr>\n",
       "      <th>5</th>\n",
       "      <td>2024-12-26</td>\n",
       "      <td>6</td>\n",
       "      <td>True</td>\n",
       "      <td>7.0</td>\n",
       "      <td>False</td>\n",
       "      <td>9500</td>\n",
       "      <td>True</td>\n",
       "      <td>True</td>\n",
       "      <td>1.81</td>\n",
       "      <td>NaN</td>\n",
       "    </tr>\n",
       "    <tr>\n",
       "      <th>6</th>\n",
       "      <td>2024-12-30</td>\n",
       "      <td>6</td>\n",
       "      <td>True</td>\n",
       "      <td>7.5</td>\n",
       "      <td>False</td>\n",
       "      <td>6000</td>\n",
       "      <td>True</td>\n",
       "      <td>True</td>\n",
       "      <td>0.39</td>\n",
       "      <td>6.88</td>\n",
       "    </tr>\n",
       "    <tr>\n",
       "      <th>7</th>\n",
       "      <td>2024-12-28</td>\n",
       "      <td>7</td>\n",
       "      <td>False</td>\n",
       "      <td>8.0</td>\n",
       "      <td>False</td>\n",
       "      <td>11000</td>\n",
       "      <td>True</td>\n",
       "      <td>True</td>\n",
       "      <td>2.53</td>\n",
       "      <td>NaN</td>\n",
       "    </tr>\n",
       "    <tr>\n",
       "      <th>8</th>\n",
       "      <td>2024-12-29</td>\n",
       "      <td>6</td>\n",
       "      <td>True</td>\n",
       "      <td>7.5</td>\n",
       "      <td>True</td>\n",
       "      <td>2000</td>\n",
       "      <td>True</td>\n",
       "      <td>False</td>\n",
       "      <td>0.38</td>\n",
       "      <td>6.66</td>\n",
       "    </tr>\n",
       "    <tr>\n",
       "      <th>9</th>\n",
       "      <td>2024-12-31</td>\n",
       "      <td>7</td>\n",
       "      <td>True</td>\n",
       "      <td>7.5</td>\n",
       "      <td>False</td>\n",
       "      <td>23000</td>\n",
       "      <td>True</td>\n",
       "      <td>True</td>\n",
       "      <td>2.95</td>\n",
       "      <td>49.46</td>\n",
       "    </tr>\n",
       "    <tr>\n",
       "      <th>10</th>\n",
       "      <td>2025-01-02</td>\n",
       "      <td>6</td>\n",
       "      <td>True</td>\n",
       "      <td>8.0</td>\n",
       "      <td>False</td>\n",
       "      <td>7800</td>\n",
       "      <td>False</td>\n",
       "      <td>True</td>\n",
       "      <td>4.14</td>\n",
       "      <td>17.29</td>\n",
       "    </tr>\n",
       "    <tr>\n",
       "      <th>11</th>\n",
       "      <td>2025-01-03</td>\n",
       "      <td>6</td>\n",
       "      <td>NaN</td>\n",
       "      <td>9.0</td>\n",
       "      <td>NaN</td>\n",
       "      <td>5000</td>\n",
       "      <td>NaN</td>\n",
       "      <td>NaN</td>\n",
       "      <td>1.46</td>\n",
       "      <td>NaN</td>\n",
       "    </tr>\n",
       "    <tr>\n",
       "      <th>12</th>\n",
       "      <td>2025-01-04</td>\n",
       "      <td>6</td>\n",
       "      <td>True</td>\n",
       "      <td>9.0</td>\n",
       "      <td>False</td>\n",
       "      <td>7000</td>\n",
       "      <td>True</td>\n",
       "      <td>True</td>\n",
       "      <td>0.62</td>\n",
       "      <td>NaN</td>\n",
       "    </tr>\n",
       "    <tr>\n",
       "      <th>13</th>\n",
       "      <td>2025-01-05</td>\n",
       "      <td>8</td>\n",
       "      <td>True</td>\n",
       "      <td>9.0</td>\n",
       "      <td>False</td>\n",
       "      <td>8000</td>\n",
       "      <td>True</td>\n",
       "      <td>True</td>\n",
       "      <td>4.62</td>\n",
       "      <td>NaN</td>\n",
       "    </tr>\n",
       "    <tr>\n",
       "      <th>14</th>\n",
       "      <td>2025-01-06</td>\n",
       "      <td>8</td>\n",
       "      <td>True</td>\n",
       "      <td>9.0</td>\n",
       "      <td>False</td>\n",
       "      <td>10000</td>\n",
       "      <td>True</td>\n",
       "      <td>True</td>\n",
       "      <td>7.31</td>\n",
       "      <td>51.81</td>\n",
       "    </tr>\n",
       "    <tr>\n",
       "      <th>15</th>\n",
       "      <td>2025-01-07</td>\n",
       "      <td>6</td>\n",
       "      <td>NaN</td>\n",
       "      <td>9.0</td>\n",
       "      <td>NaN</td>\n",
       "      <td>4000</td>\n",
       "      <td>NaN</td>\n",
       "      <td>NaN</td>\n",
       "      <td>7.60</td>\n",
       "      <td>4.38</td>\n",
       "    </tr>\n",
       "    <tr>\n",
       "      <th>16</th>\n",
       "      <td>2025-01-08</td>\n",
       "      <td>6</td>\n",
       "      <td>NaN</td>\n",
       "      <td>8.5</td>\n",
       "      <td>NaN</td>\n",
       "      <td>8000</td>\n",
       "      <td>True</td>\n",
       "      <td>NaN</td>\n",
       "      <td>6.50</td>\n",
       "      <td>5.27</td>\n",
       "    </tr>\n",
       "    <tr>\n",
       "      <th>17</th>\n",
       "      <td>2025-01-09</td>\n",
       "      <td>7</td>\n",
       "      <td>True</td>\n",
       "      <td>8.0</td>\n",
       "      <td>True</td>\n",
       "      <td>16000</td>\n",
       "      <td>False</td>\n",
       "      <td>True</td>\n",
       "      <td>3.83</td>\n",
       "      <td>22.82</td>\n",
       "    </tr>\n",
       "    <tr>\n",
       "      <th>18</th>\n",
       "      <td>2025-01-10</td>\n",
       "      <td>6</td>\n",
       "      <td>True</td>\n",
       "      <td>8.0</td>\n",
       "      <td>True</td>\n",
       "      <td>7500</td>\n",
       "      <td>True</td>\n",
       "      <td>True</td>\n",
       "      <td>6.89</td>\n",
       "      <td>68.17</td>\n",
       "    </tr>\n",
       "    <tr>\n",
       "      <th>19</th>\n",
       "      <td>2025-01-11</td>\n",
       "      <td>7</td>\n",
       "      <td>True</td>\n",
       "      <td>8.0</td>\n",
       "      <td>True</td>\n",
       "      <td>8000</td>\n",
       "      <td>False</td>\n",
       "      <td>True</td>\n",
       "      <td>4.64</td>\n",
       "      <td>6.83</td>\n",
       "    </tr>\n",
       "    <tr>\n",
       "      <th>20</th>\n",
       "      <td>2025-01-13</td>\n",
       "      <td>6</td>\n",
       "      <td>True</td>\n",
       "      <td>8.0</td>\n",
       "      <td>True</td>\n",
       "      <td>6000</td>\n",
       "      <td>False</td>\n",
       "      <td>True</td>\n",
       "      <td>6.21</td>\n",
       "      <td>35.00</td>\n",
       "    </tr>\n",
       "    <tr>\n",
       "      <th>21</th>\n",
       "      <td>2025-01-12</td>\n",
       "      <td>6</td>\n",
       "      <td>True</td>\n",
       "      <td>7.5</td>\n",
       "      <td>True</td>\n",
       "      <td>7600</td>\n",
       "      <td>True</td>\n",
       "      <td>True</td>\n",
       "      <td>2.74</td>\n",
       "      <td>NaN</td>\n",
       "    </tr>\n",
       "    <tr>\n",
       "      <th>22</th>\n",
       "      <td>2025-01-14</td>\n",
       "      <td>7</td>\n",
       "      <td>NaN</td>\n",
       "      <td>8.0</td>\n",
       "      <td>NaN</td>\n",
       "      <td>9000</td>\n",
       "      <td>NaN</td>\n",
       "      <td>NaN</td>\n",
       "      <td>6.62</td>\n",
       "      <td>48.32</td>\n",
       "    </tr>\n",
       "    <tr>\n",
       "      <th>23</th>\n",
       "      <td>2025-01-15</td>\n",
       "      <td>7</td>\n",
       "      <td>True</td>\n",
       "      <td>7.5</td>\n",
       "      <td>False</td>\n",
       "      <td>7800</td>\n",
       "      <td>False</td>\n",
       "      <td>True</td>\n",
       "      <td>6.76</td>\n",
       "      <td>NaN</td>\n",
       "    </tr>\n",
       "    <tr>\n",
       "      <th>24</th>\n",
       "      <td>2025-01-16</td>\n",
       "      <td>7</td>\n",
       "      <td>True</td>\n",
       "      <td>8.3</td>\n",
       "      <td>True</td>\n",
       "      <td>7500</td>\n",
       "      <td>False</td>\n",
       "      <td>True</td>\n",
       "      <td>7.43</td>\n",
       "      <td>91.91</td>\n",
       "    </tr>\n",
       "    <tr>\n",
       "      <th>25</th>\n",
       "      <td>2025-01-17</td>\n",
       "      <td>7</td>\n",
       "      <td>True</td>\n",
       "      <td>8.0</td>\n",
       "      <td>True</td>\n",
       "      <td>8600</td>\n",
       "      <td>False</td>\n",
       "      <td>True</td>\n",
       "      <td>8.39</td>\n",
       "      <td>42.92</td>\n",
       "    </tr>\n",
       "    <tr>\n",
       "      <th>26</th>\n",
       "      <td>2025-01-18</td>\n",
       "      <td>8</td>\n",
       "      <td>True</td>\n",
       "      <td>8.2</td>\n",
       "      <td>True</td>\n",
       "      <td>14000</td>\n",
       "      <td>False</td>\n",
       "      <td>True</td>\n",
       "      <td>5.58</td>\n",
       "      <td>NaN</td>\n",
       "    </tr>\n",
       "    <tr>\n",
       "      <th>27</th>\n",
       "      <td>2025-01-19</td>\n",
       "      <td>8</td>\n",
       "      <td>True</td>\n",
       "      <td>8.0</td>\n",
       "      <td>True</td>\n",
       "      <td>12000</td>\n",
       "      <td>True</td>\n",
       "      <td>True</td>\n",
       "      <td>6.48</td>\n",
       "      <td>NaN</td>\n",
       "    </tr>\n",
       "    <tr>\n",
       "      <th>28</th>\n",
       "      <td>2025-01-20</td>\n",
       "      <td>8</td>\n",
       "      <td>True</td>\n",
       "      <td>6.5</td>\n",
       "      <td>True</td>\n",
       "      <td>6000</td>\n",
       "      <td>True</td>\n",
       "      <td>True</td>\n",
       "      <td>5.97</td>\n",
       "      <td>NaN</td>\n",
       "    </tr>\n",
       "  </tbody>\n",
       "</table>\n",
       "</div>"
      ]
     },
     "execution_count": 39,
     "metadata": {},
     "output_type": "execute_result"
    }
   ],
   "execution_count": 39
  },
  {
   "cell_type": "code",
   "id": "40ff27279f31b5f7",
   "metadata": {
    "ExecuteTime": {
     "end_time": "2025-02-18T18:43:21.472490Z",
     "start_time": "2025-02-18T18:43:21.356202Z"
    }
   },
   "source": [
    "# Simple histogram to get a feeling for the wellbeing of each participant\n",
    "plt.hist([df_0['wellbeing'], df_1['wellbeing']], bins=10, alpha=0.7, label=['Participant 0', 'Participant 1'])\n",
    "plt.xlabel('Wellbeing')\n",
    "plt.ylabel('Frequency')\n",
    "plt.title('Histogram by Participant')\n",
    "plt.legend()\n",
    "plt.show()"
   ],
   "outputs": [
    {
     "data": {
      "text/plain": [
       "<Figure size 640x480 with 1 Axes>"
      ],
      "image/png": "[encoded data removed]"
     },
     "metadata": {},
     "output_type": "display_data"
    }
   ],
   "execution_count": 40
  },
  {
   "cell_type": "code",
   "id": "bd164005e3812262",
   "metadata": {
    "ExecuteTime": {
     "end_time": "2025-02-18T18:43:21.631899Z",
     "start_time": "2025-02-18T18:43:21.521313Z"
    }
   },
   "source": [
    "# Simple histogram to get a feeling for the wellbeing of each participant\n",
    "plt.hist([df_0['time'], df_1['time']], bins=10, alpha=0.7, label=['Participant 0', 'Participant 1'])\n",
    "plt.xlabel('Wellbeing')\n",
    "plt.ylabel('Frequency')\n",
    "plt.title('Histogram by Participant')\n",
    "plt.legend()\n",
    "plt.show()\n",
    "\n",
    "df_1.corr()"
   ],
   "outputs": [
    {
     "data": {
      "text/plain": [
       "<Figure size 640x480 with 1 Axes>"
      ],
      "image/png": "[encoded data removed]"
     },
     "metadata": {},
     "output_type": "display_data"
    },
    {
     "data": {
      "text/plain": [
       "                  date  wellbeing  meditated    sleep_time  did_sport  \\\n",
       "date          1.000000   0.513929   0.364762 -1.415355e-01   0.612228   \n",
       "wellbeing     0.513929   1.000000   0.083641 -6.978269e-02   0.243610   \n",
       "meditated     0.364762   0.083641   1.000000 -1.236957e-01   0.283315   \n",
       "sleep_time   -0.141535  -0.069783  -0.123696  1.000000e+00  -0.268677   \n",
       "did_sport     0.612228   0.243610   0.283315 -2.686775e-01   1.000000   \n",
       "steps        -0.161431   0.235129  -0.088005 -1.021337e-01  -0.269558   \n",
       "sweets       -0.490925  -0.125251  -0.164957  7.502999e-16  -0.377964   \n",
       "walk          0.237432   0.212417  -0.047619  1.663984e-01  -0.218218   \n",
       "time          0.536526   0.340125  -0.058381  1.520947e-01   0.245122   \n",
       "Amount (EUR)  0.554332   0.491261   0.355051  2.937728e-03   0.250765   \n",
       "\n",
       "                 steps        sweets      walk      time  Amount (EUR)  \n",
       "date         -0.161431 -4.909248e-01  0.237432  0.536526      0.554332  \n",
       "wellbeing     0.235129 -1.252508e-01  0.212417  0.340125      0.491261  \n",
       "meditated    -0.088005 -1.649572e-01 -0.047619 -0.058381      0.355051  \n",
       "sleep_time   -0.102134  7.502999e-16  0.166398  0.152095      0.002938  \n",
       "did_sport    -0.269558 -3.779645e-01 -0.218218  0.245122      0.250765  \n",
       "steps         1.000000 -1.249400e-02  0.383278  0.052862      0.229195  \n",
       "sweets       -0.012494  1.000000e+00 -0.164957 -0.416272     -0.088738  \n",
       "walk          0.383278 -1.649572e-01  1.000000  0.380926      0.354225  \n",
       "time          0.052862 -4.162716e-01  0.380926  1.000000      0.387940  \n",
       "Amount (EUR)  0.229195 -8.873762e-02  0.354225  0.387940      1.000000  "
      ],
      "text/html": [
       "<div>\n",
       "<style scoped>\n",
       "    .dataframe tbody tr th:only-of-type {\n",
       "        vertical-align: middle;\n",
       "    }\n",
       "\n",
       "    .dataframe tbody tr th {\n",
       "        vertical-align: top;\n",
       "    }\n",
       "\n",
       "    .dataframe thead th {\n",
       "        text-align: right;\n",
       "    }\n",
       "</style>\n",
       "<table border=\"1\" class=\"dataframe\">\n",
       "  <thead>\n",
       "    <tr style=\"text-align: right;\">\n",
       "      <th></th>\n",
       "      <th>date</th>\n",
       "      <th>wellbeing</th>\n",
       "      <th>meditated</th>\n",
       "      <th>sleep_time</th>\n",
       "      <th>did_sport</th>\n",
       "      <th>steps</th>\n",
       "      <th>sweets</th>\n",
       "      <th>walk</th>\n",
       "      <th>time</th>\n",
       "      <th>Amount (EUR)</th>\n",
       "    </tr>\n",
       "  </thead>\n",
       "  <tbody>\n",
       "    <tr>\n",
       "      <th>date</th>\n",
       "      <td>1.000000</td>\n",
       "      <td>0.513929</td>\n",
       "      <td>0.364762</td>\n",
       "      <td>-1.415355e-01</td>\n",
       "      <td>0.612228</td>\n",
       "      <td>-0.161431</td>\n",
       "      <td>-4.909248e-01</td>\n",
       "      <td>0.237432</td>\n",
       "      <td>0.536526</td>\n",
       "      <td>0.554332</td>\n",
       "    </tr>\n",
       "    <tr>\n",
       "      <th>wellbeing</th>\n",
       "      <td>0.513929</td>\n",
       "      <td>1.000000</td>\n",
       "      <td>0.083641</td>\n",
       "      <td>-6.978269e-02</td>\n",
       "      <td>0.243610</td>\n",
       "      <td>0.235129</td>\n",
       "      <td>-1.252508e-01</td>\n",
       "      <td>0.212417</td>\n",
       "      <td>0.340125</td>\n",
       "      <td>0.491261</td>\n",
       "    </tr>\n",
       "    <tr>\n",
       "      <th>meditated</th>\n",
       "      <td>0.364762</td>\n",
       "      <td>0.083641</td>\n",
       "      <td>1.000000</td>\n",
       "      <td>-1.236957e-01</td>\n",
       "      <td>0.283315</td>\n",
       "      <td>-0.088005</td>\n",
       "      <td>-1.649572e-01</td>\n",
       "      <td>-0.047619</td>\n",
       "      <td>-0.058381</td>\n",
       "      <td>0.355051</td>\n",
       "    </tr>\n",
       "    <tr>\n",
       "      <th>sleep_time</th>\n",
       "      <td>-0.141535</td>\n",
       "      <td>-0.069783</td>\n",
       "      <td>-0.123696</td>\n",
       "      <td>1.000000e+00</td>\n",
       "      <td>-0.268677</td>\n",
       "      <td>-0.102134</td>\n",
       "      <td>7.502999e-16</td>\n",
       "      <td>0.166398</td>\n",
       "      <td>0.152095</td>\n",
       "      <td>0.002938</td>\n",
       "    </tr>\n",
       "    <tr>\n",
       "      <th>did_sport</th>\n",
       "      <td>0.612228</td>\n",
       "      <td>0.243610</td>\n",
       "      <td>0.283315</td>\n",
       "      <td>-2.686775e-01</td>\n",
       "      <td>1.000000</td>\n",
       "      <td>-0.269558</td>\n",
       "      <td>-3.779645e-01</td>\n",
       "      <td>-0.218218</td>\n",
       "      <td>0.245122</td>\n",
       "      <td>0.250765</td>\n",
       "    </tr>\n",
       "    <tr>\n",
       "      <th>steps</th>\n",
       "      <td>-0.161431</td>\n",
       "      <td>0.235129</td>\n",
       "      <td>-0.088005</td>\n",
       "      <td>-1.021337e-01</td>\n",
       "      <td>-0.269558</td>\n",
       "      <td>1.000000</td>\n",
       "      <td>-1.249400e-02</td>\n",
       "      <td>0.383278</td>\n",
       "      <td>0.052862</td>\n",
       "      <td>0.229195</td>\n",
       "    </tr>\n",
       "    <tr>\n",
       "      <th>sweets</th>\n",
       "      <td>-0.490925</td>\n",
       "      <td>-0.125251</td>\n",
       "      <td>-0.164957</td>\n",
       "      <td>7.502999e-16</td>\n",
       "      <td>-0.377964</td>\n",
       "      <td>-0.012494</td>\n",
       "      <td>1.000000e+00</td>\n",
       "      <td>-0.164957</td>\n",
       "      <td>-0.416272</td>\n",
       "      <td>-0.088738</td>\n",
       "    </tr>\n",
       "    <tr>\n",
       "      <th>walk</th>\n",
       "      <td>0.237432</td>\n",
       "      <td>0.212417</td>\n",
       "      <td>-0.047619</td>\n",
       "      <td>1.663984e-01</td>\n",
       "      <td>-0.218218</td>\n",
       "      <td>0.383278</td>\n",
       "      <td>-1.649572e-01</td>\n",
       "      <td>1.000000</td>\n",
       "      <td>0.380926</td>\n",
       "      <td>0.354225</td>\n",
       "    </tr>\n",
       "    <tr>\n",
       "      <th>time</th>\n",
       "      <td>0.536526</td>\n",
       "      <td>0.340125</td>\n",
       "      <td>-0.058381</td>\n",
       "      <td>1.520947e-01</td>\n",
       "      <td>0.245122</td>\n",
       "      <td>0.052862</td>\n",
       "      <td>-4.162716e-01</td>\n",
       "      <td>0.380926</td>\n",
       "      <td>1.000000</td>\n",
       "      <td>0.387940</td>\n",
       "    </tr>\n",
       "    <tr>\n",
       "      <th>Amount (EUR)</th>\n",
       "      <td>0.554332</td>\n",
       "      <td>0.491261</td>\n",
       "      <td>0.355051</td>\n",
       "      <td>2.937728e-03</td>\n",
       "      <td>0.250765</td>\n",
       "      <td>0.229195</td>\n",
       "      <td>-8.873762e-02</td>\n",
       "      <td>0.354225</td>\n",
       "      <td>0.387940</td>\n",
       "      <td>1.000000</td>\n",
       "    </tr>\n",
       "  </tbody>\n",
       "</table>\n",
       "</div>"
      ]
     },
     "execution_count": 41,
     "metadata": {},
     "output_type": "execute_result"
    }
   ],
   "execution_count": 41
  },
  {
   "cell_type": "markdown",
   "id": "4e54fc78",
   "metadata": {},
   "source": [
    "From the correlation matrix, we can see that date, work_time, walk, did_sport, sweets time have some correlation with wellbeing.\n",
    "But overall, the correlation is not very strong. Furthermore, the data is not very dense, so it is difficult to make any conclusions."
   ]
  },
  {
   "cell_type": "code",
   "id": "7a79ea5def352e9f",
   "metadata": {
    "ExecuteTime": {
     "end_time": "2025-02-18T18:43:21.772889Z",
     "start_time": "2025-02-18T18:43:21.674523Z"
    }
   },
   "source": [
    "plt.scatter(df_0['time'], df_0['wellbeing'])\n",
    "plt.scatter(df_1['time'], df_1['wellbeing'])"
   ],
   "outputs": [
    {
     "data": {
      "text/plain": [
       "<matplotlib.collections.PathCollection at 0x7f604d278e10>"
      ]
     },
     "execution_count": 42,
     "metadata": {},
     "output_type": "execute_result"
    },
    {
     "data": {
      "text/plain": [
       "<Figure size 640x480 with 1 Axes>"
      ],
      "image/png": "[encoded data removed]"
     },
     "metadata": {},
     "output_type": "display_data"
    }
   ],
   "execution_count": 42
  },
  {
   "cell_type": "markdown",
   "id": "7b0ad1df",
   "metadata": {},
   "source": [
    "### Lets try to predict wellbeing with a neural network"
   ]
  },
  {
   "cell_type": "code",
   "id": "ad1cdd0e",
   "metadata": {
    "ExecuteTime": {
     "end_time": "2025-02-18T18:43:21.832858Z",
     "start_time": "2025-02-18T18:43:21.822682Z"
    }
   },
   "source": [
    "# Process the data for the neural network  \n",
    "df_all = pd.concat([df_0, df_1])\n",
    "df_all.reset_index(drop=True, inplace=True)\n",
    "# Fill NaN values with False\n",
    "df_all.fillna(False, inplace=True)\n",
    "\n",
    "# Select the features and the target\n",
    "# Features: meditated, sleep_time, did_sport, steps, sweets, walk, time\n",
    "# Target: wellbeing\n",
    "\n",
    "X = df_all[['sleep_time', 'time', 'sweets', 'meditated', 'did_sport', 'walk']]\n",
    "X = X.astype({'meditated': int, 'did_sport': int, 'walk': int, 'sweets': int})  # Convert boolean columns\n",
    "\n",
    "y = df_all['wellbeing']\n",
    "\n",
    "scaler = StandardScaler()\n",
    "X.iloc[:, :2] = scaler.fit_transform(X.iloc[:, :2])  # Use .iloc for column selection\n",
    "\n",
    "X = X.to_numpy()\n",
    "y = y.to_numpy()\n",
    "\n",
    "# Convert to PyTorch tensors\n",
    "X_tensor = torch.tensor(X, dtype=torch.float32)\n",
    "y_tensor = torch.tensor(y, dtype=torch.float32).view(-1, 1)\n",
    "\n",
    "# Split the data into training and test set\n",
    "X_train, X_test, y_train, y_test = sklearn.model_selection.train_test_split(X_tensor, y_tensor, test_size=0.2, random_state=42)"
   ],
   "outputs": [
    {
     "name": "stderr",
     "output_type": "stream",
     "text": [
      "/tmp/ipykernel_2978/166198665.py:5: FutureWarning: Downcasting object dtype arrays on .fillna, .ffill, .bfill is deprecated and will change in a future version. Call result.infer_objects(copy=False) instead. To opt-in to the future behavior, set `pd.set_option('future.no_silent_downcasting', True)`\n",
      "  df_all.fillna(False, inplace=True)\n",
      "/tmp/ipykernel_2978/166198665.py:5: FutureWarning: Setting an item of incompatible dtype is deprecated and will raise an error in a future version of pandas. Value 'False' has dtype incompatible with float64, please explicitly cast to a compatible dtype first.\n",
      "  df_all.fillna(False, inplace=True)\n"
     ]
    }
   ],
   "execution_count": 43
  },
  {
   "metadata": {
    "ExecuteTime": {
     "end_time": "2025-02-18T18:43:28.167935Z",
     "start_time": "2025-02-18T18:43:21.930445Z"
    }
   },
   "cell_type": "code",
   "source": [
    "# importing libraries\n",
    "import numpy as np\n",
    "import time\n",
    "import matplotlib.pyplot as plt\n",
    "\n",
    "# creating initial data values\n",
    "# of x and y\n",
    "x = np.linspace(0, 10, 100)\n",
    "y = np.sin(x)\n",
    "\n",
    "# to run GUI event loop\n",
    "plt.ion()\n",
    "\n",
    "# here we are creating sub plots\n",
    "figure, ax = plt.subplots(figsize=(10, 8))\n",
    "line1, = ax.plot(x, y)\n",
    "\n",
    "# setting title\n",
    "plt.title(\"Geeks For Geeks\", fontsize=20)\n",
    "\n",
    "# setting x-axis label and y-axis label\n",
    "plt.xlabel(\"X-axis\")\n",
    "plt.ylabel(\"Y-axis\")\n",
    "\n",
    "# Loop\n",
    "for _ in range(50):\n",
    "\t# creating new Y values\n",
    "\tnew_y = np.sin(x-0.5*_)\n",
    "\n",
    "\t# updating data values\n",
    "\tline1.set_xdata(x)\n",
    "\tline1.set_ydata(new_y)\n",
    "\n",
    "\t# drawing updated values\n",
    "\tfigure.canvas.draw()\n",
    "\n",
    "\t# This will run the GUI event\n",
    "\t# loop until all UI events\n",
    "\t# currently waiting have been processed\n",
    "\tfigure.canvas.flush_events()\n",
    "\n",
    "\ttime.sleep(0.1)\n"
   ],
   "id": "8cdce5885b2cb43d",
   "outputs": [
    {
     "data": {
      "text/plain": [
       "<Figure size 1000x800 with 1 Axes>"
      ],
      "image/png": "[encoded data removed]"
     },
     "metadata": {},
     "output_type": "display_data"
    }
   ],
   "execution_count": 44
  },
  {
   "metadata": {
    "ExecuteTime": {
     "end_time": "2025-02-18T18:43:28.226964Z",
     "start_time": "2025-02-18T18:43:28.221988Z"
    }
   },
   "cell_type": "code",
   "source": [
    "# Function to draw the neural network\n",
    "def draw_neural_net(ax, left, right, bottom, top, layer_sizes, model, loss):\n",
    "    ax.clear()\n",
    "    ax.axis('off')\n",
    "    v_spacing = (top - bottom) / float(max(layer_sizes))\n",
    "    h_spacing = (right - left) / float(len(layer_sizes) - 1)\n",
    "\n",
    "    # Retrieve weights from the model\n",
    "    weight = model.linear_relu_stack[0].weight.detach().numpy()\n",
    "\n",
    "    # Nodes\n",
    "    for n, layer_size in enumerate(layer_sizes):\n",
    "        layer_top = v_spacing * (layer_size - 1) / 2. + (top + bottom) / 2.\n",
    "        max_weight = np.max(np.abs(weight)) if n == 0 else 1  # Scale based on input weights if available\n",
    "        for m in range(layer_size):\n",
    "            size = v_spacing / 4. * (np.abs(weight[0, m]) / max_weight + 0.1) if n == 0 else v_spacing / 4.\n",
    "            color = get_color_for_loss(loss) if n == len(layer_sizes) - 1 else 'w'\n",
    "            circle = plt.Circle((n * h_spacing + left, layer_top - m * v_spacing), size, color=color, ec='k', zorder=4)\n",
    "            ax.add_artist(circle)\n",
    "\n",
    "    # Edges\n",
    "    for n, (layer_size_a, layer_size_b) in enumerate(zip(layer_sizes[:-1], layer_sizes[1:])):\n",
    "        layer_top_a = v_spacing * (layer_size_a - 1) / 2. + (top + bottom) / 2.\n",
    "        layer_top_b = v_spacing * (layer_size_b - 1) / 2. + (top + bottom) / 2.\n",
    "        for m in range(layer_size_a):\n",
    "            for o in range(layer_size_b):\n",
    "                x_coords = [n * h_spacing + left, (n + 1) * h_spacing + left]\n",
    "                y_coords = [layer_top_a - m * v_spacing, layer_top_b - o * v_spacing]\n",
    "                line = plt.Line2D(x_coords, y_coords, c='k')\n",
    "                ax.add_artist(line)\n",
    "                # Display weight\n",
    "                if n == 0:\n",
    "                    ax.text((x_coords[0] + x_coords[1]) / 2, (y_coords[0] + y_coords[1]) / 2,\n",
    "                            f\"{weight[0, m]:.2f}\", fontsize=16, va='center', ha='center', color='yellow')\n",
    "\n",
    "def draw_dot(ax):\n",
    "    circle = plt.Circle()\n",
    "    ax.add_artist(circle)\n",
    "\n",
    "# Function to map loss to color\n",
    "def get_color_for_loss(loss):\n",
    "    if 25 < loss <= 50:\n",
    "        return 'red'\n",
    "    elif 15 < loss <= 25:\n",
    "        return 'orange'\n",
    "    elif 7 < loss <= 15:\n",
    "        return 'yellow'\n",
    "    else:  # 0 < loss <= 7\n",
    "        return 'green'"
   ],
   "id": "ccc3fd7346e7b704",
   "outputs": [],
   "execution_count": 45
  },
  {
   "cell_type": "code",
   "id": "595f38df",
   "metadata": {
    "ExecuteTime": {
     "end_time": "2025-02-18T18:43:56.135909Z",
     "start_time": "2025-02-18T18:43:28.260743Z"
    }
   },
   "source": [
    "from torchviz import make_dot\n",
    "import time\n",
    "\n",
    "\n",
    "INPUT_LAYER_SIZE = 6\n",
    "OUTPUT_LAYER_SIZE = 1\n",
    "\n",
    "# Define the neural network\n",
    "class Net(nn.Module):\n",
    "    def __init__(self):\n",
    "        super(Net, self).__init__()\n",
    "        self.linear_relu_stack = nn.Sequential( \n",
    "            nn.Linear(INPUT_LAYER_SIZE, OUTPUT_LAYER_SIZE),\n",
    "            # nn.ReLU(),\n",
    "            # nn.Linear(6, 1),\n",
    "        )\n",
    "\n",
    "    def forward(self, x):\n",
    "        return self.linear_relu_stack(x)  # Add return statement here\n",
    "        \n",
    "net = Net()\n",
    "\n",
    "# Define the loss function and optimizer\n",
    "criterion = nn.MSELoss()\n",
    "optimizer = optim.Adam(net.parameters(), lr=0.01)\n",
    "\n",
    "\n",
    "# # Create a dummy input\n",
    "# dummy_input = torch.randn(1, 6)\n",
    "#\n",
    "# # Forward pass with the dummy input\n",
    "# y = net(dummy_input)\n",
    "#\n",
    "# # Use torchviz to create a visual representation of the model\n",
    "# dot = make_dot(y, params=dict(net.named_parameters()), show_attrs=True, show_saved=True)\n",
    "#\n",
    "# # Display the graph directly in the notebook\n",
    "# display(dot)\n",
    "\n",
    "x = np.linspace(0, 10, 100)\n",
    "y = np.sin(x)\n",
    "\n",
    "plt.ion()  # Enable interactive mode\n",
    "fig, ax = plt.subplots(figsize=(8, 6))\n",
    "\n",
    "# Example: [input neurons, hidden layers, output neurons]\n",
    "# layer_sizes = [INPUT_LAYER_SIZE, OUTPUT_LAYER_SIZE]\n",
    "# plt.ion()\n",
    "# fig = plt.figure(figsize=(12, 12))\n",
    "# ax = fig.gca()\n",
    "\n",
    "# Train the network\n",
    "for epoch in range(100):\n",
    "    optimizer.zero_grad()\n",
    "    outputs = net(X_train)\n",
    "    loss = criterion(outputs, y_train)\n",
    "    loss.backward()\n",
    "    optimizer.step()\n",
    "\n",
    "    ax.clear()  # Clear the plot\n",
    "    ax.plot(x, y)  # Simple line plot\n",
    "    ax.set_title(f'Epoch {epoch + 1}')\n",
    "    ax.set_xlabel('X')\n",
    "    ax.set_ylabel('sin(X)')\n",
    "\n",
    "    plt.draw()  # Update the plot\n",
    "    plt.pause(0.25)  # Pause to view updates\n",
    "\n",
    "    # if True:\n",
    "    #     fig.clf()\n",
    "    #     ax = fig.gca()\n",
    "    #     draw_neural_net(ax, .1, .9, .1, .9, layer_sizes, net, loss.item())\n",
    "    #     plt.draw()  # Redraw the plot\n",
    "    #     plt.pause(0.25)# Pause to update the plot\n",
    "\n",
    "\n",
    "    if (epoch + 1) % 10 == 0:  # Print loss every 10 epochs\n",
    "        print(f\"Epoch {epoch+1}, Loss: {loss.item():.4f}\")\n",
    "\n",
    "\n",
    "# Test and evaluate the network\n",
    "with torch.no_grad():\n",
    "    test_outputs = net(X_test)\n",
    "    test_loss = criterion(test_outputs, y_test)\n",
    "    \n",
    "    y_pred = test_outputs.detach().numpy()  # Proper tensor conversion\n",
    "    y_true = y_test.numpy()  # Ensure y_test is also NumPy\n",
    "\n",
    "    # Compute R²\n",
    "    r2 = 1 - np.sum((y_true - y_pred) ** 2) / np.sum((y_true - y_true.mean()) ** 2)\n",
    "\n",
    "    # Mean Absolute Error (MAE)\n",
    "    mae = np.mean(np.abs(y_true - y_pred))\n",
    "\n",
    "    # Relative Error (RE) - with division safety\n",
    "    re = np.mean(np.abs((y_true - y_pred) / (y_true + 1e-8)))\n",
    "\n",
    "    print(f\"R-squared Score: {r2:.4f}\")\n",
    "    print(f\"Mean Absolute Error: {mae:.4f}\")\n",
    "    print(f\"Relative Error: {re:.4f}\")\n",
    "\n",
    "    \n",
    "\n",
    "print(f\"\\nTest Loss: {test_loss.item():.4f}\")\n",
    "\n",
    "print(f\"Sample Prediction: {test_outputs[0].item():.4f}\")\n",
    "print(f\"Sample True Value: {y_test[0].item():.4f}\")\n",
    "\n",
    "# If we use a single linear layer, we can recover the parameters from the network\n",
    "print(net.linear_relu_stack[0].weight)\n",
    "\n",
    "\n",
    "# example tensor([[0.5257, 0.1423, 1.1832, 0.9429, 0.6883, 0.9817]], requires_grad=True)\n",
    "# could compare this to the correlation matrix to see if the model is able to recover the parameters\n",
    "# but we have a REEEALLLY high error so ...."
   ],
   "outputs": [
    {
     "data": {
      "text/plain": [
       "<Figure size 800x600 with 1 Axes>"
      ],
      "image/png": "[encoded data removed]"
     },
     "metadata": {},
     "output_type": "display_data"
    },
    {
     "data": {
      "text/plain": [
       "<Figure size 640x480 with 0 Axes>"
      ]
     },
     "metadata": {},
     "output_type": "display_data"
    },
    {
     "data": {
      "text/plain": [
       "<Figure size 640x480 with 0 Axes>"
      ]
     },
     "metadata": {},
     "output_type": "display_data"
    },
    {
     "data": {
      "text/plain": [
       "<Figure size 640x480 with 0 Axes>"
      ]
     },
     "metadata": {},
     "output_type": "display_data"
    },
    {
     "data": {
      "text/plain": [
       "<Figure size 640x480 with 0 Axes>"
      ]
     },
     "metadata": {},
     "output_type": "display_data"
    },
    {
     "data": {
      "text/plain": [
       "<Figure size 640x480 with 0 Axes>"
      ]
     },
     "metadata": {},
     "output_type": "display_data"
    },
    {
     "data": {
      "text/plain": [
       "<Figure size 640x480 with 0 Axes>"
      ]
     },
     "metadata": {},
     "output_type": "display_data"
    },
    {
     "data": {
      "text/plain": [
       "<Figure size 640x480 with 0 Axes>"
      ]
     },
     "metadata": {},
     "output_type": "display_data"
    },
    {
     "data": {
      "text/plain": [
       "<Figure size 640x480 with 0 Axes>"
      ]
     },
     "metadata": {},
     "output_type": "display_data"
    },
    {
     "data": {
      "text/plain": [
       "<Figure size 640x480 with 0 Axes>"
      ]
     },
     "metadata": {},
     "output_type": "display_data"
    },
    {
     "name": "stdout",
     "output_type": "stream",
     "text": [
      "Epoch 10, Loss: 34.9256\n"
     ]
    },
    {
     "data": {
      "text/plain": [
       "<Figure size 640x480 with 0 Axes>"
      ]
     },
     "metadata": {},
     "output_type": "display_data"
    },
    {
     "data": {
      "text/plain": [
       "<Figure size 640x480 with 0 Axes>"
      ]
     },
     "metadata": {},
     "output_type": "display_data"
    },
    {
     "data": {
      "text/plain": [
       "<Figure size 640x480 with 0 Axes>"
      ]
     },
     "metadata": {},
     "output_type": "display_data"
    },
    {
     "data": {
      "text/plain": [
       "<Figure size 640x480 with 0 Axes>"
      ]
     },
     "metadata": {},
     "output_type": "display_data"
    },
    {
     "data": {
      "text/plain": [
       "<Figure size 640x480 with 0 Axes>"
      ]
     },
     "metadata": {},
     "output_type": "display_data"
    },
    {
     "data": {
      "text/plain": [
       "<Figure size 640x480 with 0 Axes>"
      ]
     },
     "metadata": {},
     "output_type": "display_data"
    },
    {
     "data": {
      "text/plain": [
       "<Figure size 640x480 with 0 Axes>"
      ]
     },
     "metadata": {},
     "output_type": "display_data"
    },
    {
     "data": {
      "text/plain": [
       "<Figure size 640x480 with 0 Axes>"
      ]
     },
     "metadata": {},
     "output_type": "display_data"
    },
    {
     "data": {
      "text/plain": [
       "<Figure size 640x480 with 0 Axes>"
      ]
     },
     "metadata": {},
     "output_type": "display_data"
    },
    {
     "data": {
      "text/plain": [
       "<Figure size 640x480 with 0 Axes>"
      ]
     },
     "metadata": {},
     "output_type": "display_data"
    },
    {
     "name": "stdout",
     "output_type": "stream",
     "text": [
      "Epoch 20, Loss: 31.1710\n"
     ]
    },
    {
     "data": {
      "text/plain": [
       "<Figure size 640x480 with 0 Axes>"
      ]
     },
     "metadata": {},
     "output_type": "display_data"
    },
    {
     "data": {
      "text/plain": [
       "<Figure size 640x480 with 0 Axes>"
      ]
     },
     "metadata": {},
     "output_type": "display_data"
    },
    {
     "data": {
      "text/plain": [
       "<Figure size 640x480 with 0 Axes>"
      ]
     },
     "metadata": {},
     "output_type": "display_data"
    },
    {
     "data": {
      "text/plain": [
       "<Figure size 640x480 with 0 Axes>"
      ]
     },
     "metadata": {},
     "output_type": "display_data"
    },
    {
     "data": {
      "text/plain": [
       "<Figure size 640x480 with 0 Axes>"
      ]
     },
     "metadata": {},
     "output_type": "display_data"
    },
    {
     "data": {
      "text/plain": [
       "<Figure size 640x480 with 0 Axes>"
      ]
     },
     "metadata": {},
     "output_type": "display_data"
    },
    {
     "data": {
      "text/plain": [
       "<Figure size 640x480 with 0 Axes>"
      ]
     },
     "metadata": {},
     "output_type": "display_data"
    },
    {
     "data": {
      "text/plain": [
       "<Figure size 640x480 with 0 Axes>"
      ]
     },
     "metadata": {},
     "output_type": "display_data"
    },
    {
     "data": {
      "text/plain": [
       "<Figure size 640x480 with 0 Axes>"
      ]
     },
     "metadata": {},
     "output_type": "display_data"
    },
    {
     "data": {
      "text/plain": [
       "<Figure size 640x480 with 0 Axes>"
      ]
     },
     "metadata": {},
     "output_type": "display_data"
    },
    {
     "name": "stdout",
     "output_type": "stream",
     "text": [
      "Epoch 30, Loss: 27.7390\n"
     ]
    },
    {
     "data": {
      "text/plain": [
       "<Figure size 640x480 with 0 Axes>"
      ]
     },
     "metadata": {},
     "output_type": "display_data"
    },
    {
     "data": {
      "text/plain": [
       "<Figure size 640x480 with 0 Axes>"
      ]
     },
     "metadata": {},
     "output_type": "display_data"
    },
    {
     "data": {
      "text/plain": [
       "<Figure size 640x480 with 0 Axes>"
      ]
     },
     "metadata": {},
     "output_type": "display_data"
    },
    {
     "data": {
      "text/plain": [
       "<Figure size 640x480 with 0 Axes>"
      ]
     },
     "metadata": {},
     "output_type": "display_data"
    },
    {
     "data": {
      "text/plain": [
       "<Figure size 640x480 with 0 Axes>"
      ]
     },
     "metadata": {},
     "output_type": "display_data"
    },
    {
     "data": {
      "text/plain": [
       "<Figure size 640x480 with 0 Axes>"
      ]
     },
     "metadata": {},
     "output_type": "display_data"
    },
    {
     "data": {
      "text/plain": [
       "<Figure size 640x480 with 0 Axes>"
      ]
     },
     "metadata": {},
     "output_type": "display_data"
    },
    {
     "data": {
      "text/plain": [
       "<Figure size 640x480 with 0 Axes>"
      ]
     },
     "metadata": {},
     "output_type": "display_data"
    },
    {
     "data": {
      "text/plain": [
       "<Figure size 640x480 with 0 Axes>"
      ]
     },
     "metadata": {},
     "output_type": "display_data"
    },
    {
     "data": {
      "text/plain": [
       "<Figure size 640x480 with 0 Axes>"
      ]
     },
     "metadata": {},
     "output_type": "display_data"
    },
    {
     "name": "stdout",
     "output_type": "stream",
     "text": [
      "Epoch 40, Loss: 24.6349\n"
     ]
    },
    {
     "data": {
      "text/plain": [
       "<Figure size 640x480 with 0 Axes>"
      ]
     },
     "metadata": {},
     "output_type": "display_data"
    },
    {
     "data": {
      "text/plain": [
       "<Figure size 640x480 with 0 Axes>"
      ]
     },
     "metadata": {},
     "output_type": "display_data"
    },
    {
     "data": {
      "text/plain": [
       "<Figure size 640x480 with 0 Axes>"
      ]
     },
     "metadata": {},
     "output_type": "display_data"
    },
    {
     "data": {
      "text/plain": [
       "<Figure size 640x480 with 0 Axes>"
      ]
     },
     "metadata": {},
     "output_type": "display_data"
    },
    {
     "data": {
      "text/plain": [
       "<Figure size 640x480 with 0 Axes>"
      ]
     },
     "metadata": {},
     "output_type": "display_data"
    },
    {
     "data": {
      "text/plain": [
       "<Figure size 640x480 with 0 Axes>"
      ]
     },
     "metadata": {},
     "output_type": "display_data"
    },
    {
     "data": {
      "text/plain": [
       "<Figure size 640x480 with 0 Axes>"
      ]
     },
     "metadata": {},
     "output_type": "display_data"
    },
    {
     "data": {
      "text/plain": [
       "<Figure size 640x480 with 0 Axes>"
      ]
     },
     "metadata": {},
     "output_type": "display_data"
    },
    {
     "data": {
      "text/plain": [
       "<Figure size 640x480 with 0 Axes>"
      ]
     },
     "metadata": {},
     "output_type": "display_data"
    },
    {
     "data": {
      "text/plain": [
       "<Figure size 640x480 with 0 Axes>"
      ]
     },
     "metadata": {},
     "output_type": "display_data"
    },
    {
     "name": "stdout",
     "output_type": "stream",
     "text": [
      "Epoch 50, Loss: 21.8492\n"
     ]
    },
    {
     "data": {
      "text/plain": [
       "<Figure size 640x480 with 0 Axes>"
      ]
     },
     "metadata": {},
     "output_type": "display_data"
    },
    {
     "data": {
      "text/plain": [
       "<Figure size 640x480 with 0 Axes>"
      ]
     },
     "metadata": {},
     "output_type": "display_data"
    },
    {
     "data": {
      "text/plain": [
       "<Figure size 640x480 with 0 Axes>"
      ]
     },
     "metadata": {},
     "output_type": "display_data"
    },
    {
     "data": {
      "text/plain": [
       "<Figure size 640x480 with 0 Axes>"
      ]
     },
     "metadata": {},
     "output_type": "display_data"
    },
    {
     "data": {
      "text/plain": [
       "<Figure size 640x480 with 0 Axes>"
      ]
     },
     "metadata": {},
     "output_type": "display_data"
    },
    {
     "data": {
      "text/plain": [
       "<Figure size 640x480 with 0 Axes>"
      ]
     },
     "metadata": {},
     "output_type": "display_data"
    },
    {
     "data": {
      "text/plain": [
       "<Figure size 640x480 with 0 Axes>"
      ]
     },
     "metadata": {},
     "output_type": "display_data"
    },
    {
     "data": {
      "text/plain": [
       "<Figure size 640x480 with 0 Axes>"
      ]
     },
     "metadata": {},
     "output_type": "display_data"
    },
    {
     "data": {
      "text/plain": [
       "<Figure size 640x480 with 0 Axes>"
      ]
     },
     "metadata": {},
     "output_type": "display_data"
    },
    {
     "data": {
      "text/plain": [
       "<Figure size 640x480 with 0 Axes>"
      ]
     },
     "metadata": {},
     "output_type": "display_data"
    },
    {
     "name": "stdout",
     "output_type": "stream",
     "text": [
      "Epoch 60, Loss: 19.3636\n"
     ]
    },
    {
     "data": {
      "text/plain": [
       "<Figure size 640x480 with 0 Axes>"
      ]
     },
     "metadata": {},
     "output_type": "display_data"
    },
    {
     "data": {
      "text/plain": [
       "<Figure size 640x480 with 0 Axes>"
      ]
     },
     "metadata": {},
     "output_type": "display_data"
    },
    {
     "data": {
      "text/plain": [
       "<Figure size 640x480 with 0 Axes>"
      ]
     },
     "metadata": {},
     "output_type": "display_data"
    },
    {
     "data": {
      "text/plain": [
       "<Figure size 640x480 with 0 Axes>"
      ]
     },
     "metadata": {},
     "output_type": "display_data"
    },
    {
     "data": {
      "text/plain": [
       "<Figure size 640x480 with 0 Axes>"
      ]
     },
     "metadata": {},
     "output_type": "display_data"
    },
    {
     "data": {
      "text/plain": [
       "<Figure size 640x480 with 0 Axes>"
      ]
     },
     "metadata": {},
     "output_type": "display_data"
    },
    {
     "data": {
      "text/plain": [
       "<Figure size 640x480 with 0 Axes>"
      ]
     },
     "metadata": {},
     "output_type": "display_data"
    },
    {
     "data": {
      "text/plain": [
       "<Figure size 640x480 with 0 Axes>"
      ]
     },
     "metadata": {},
     "output_type": "display_data"
    },
    {
     "data": {
      "text/plain": [
       "<Figure size 640x480 with 0 Axes>"
      ]
     },
     "metadata": {},
     "output_type": "display_data"
    },
    {
     "data": {
      "text/plain": [
       "<Figure size 640x480 with 0 Axes>"
      ]
     },
     "metadata": {},
     "output_type": "display_data"
    },
    {
     "name": "stdout",
     "output_type": "stream",
     "text": [
      "Epoch 70, Loss: 17.1566\n"
     ]
    },
    {
     "data": {
      "text/plain": [
       "<Figure size 640x480 with 0 Axes>"
      ]
     },
     "metadata": {},
     "output_type": "display_data"
    },
    {
     "data": {
      "text/plain": [
       "<Figure size 640x480 with 0 Axes>"
      ]
     },
     "metadata": {},
     "output_type": "display_data"
    },
    {
     "data": {
      "text/plain": [
       "<Figure size 640x480 with 0 Axes>"
      ]
     },
     "metadata": {},
     "output_type": "display_data"
    },
    {
     "data": {
      "text/plain": [
       "<Figure size 640x480 with 0 Axes>"
      ]
     },
     "metadata": {},
     "output_type": "display_data"
    },
    {
     "data": {
      "text/plain": [
       "<Figure size 640x480 with 0 Axes>"
      ]
     },
     "metadata": {},
     "output_type": "display_data"
    },
    {
     "data": {
      "text/plain": [
       "<Figure size 640x480 with 0 Axes>"
      ]
     },
     "metadata": {},
     "output_type": "display_data"
    },
    {
     "data": {
      "text/plain": [
       "<Figure size 640x480 with 0 Axes>"
      ]
     },
     "metadata": {},
     "output_type": "display_data"
    },
    {
     "data": {
      "text/plain": [
       "<Figure size 640x480 with 0 Axes>"
      ]
     },
     "metadata": {},
     "output_type": "display_data"
    },
    {
     "data": {
      "text/plain": [
       "<Figure size 640x480 with 0 Axes>"
      ]
     },
     "metadata": {},
     "output_type": "display_data"
    },
    {
     "data": {
      "text/plain": [
       "<Figure size 640x480 with 0 Axes>"
      ]
     },
     "metadata": {},
     "output_type": "display_data"
    },
    {
     "name": "stdout",
     "output_type": "stream",
     "text": [
      "Epoch 80, Loss: 15.2061\n"
     ]
    },
    {
     "data": {
      "text/plain": [
       "<Figure size 640x480 with 0 Axes>"
      ]
     },
     "metadata": {},
     "output_type": "display_data"
    },
    {
     "data": {
      "text/plain": [
       "<Figure size 640x480 with 0 Axes>"
      ]
     },
     "metadata": {},
     "output_type": "display_data"
    },
    {
     "data": {
      "text/plain": [
       "<Figure size 640x480 with 0 Axes>"
      ]
     },
     "metadata": {},
     "output_type": "display_data"
    },
    {
     "data": {
      "text/plain": [
       "<Figure size 640x480 with 0 Axes>"
      ]
     },
     "metadata": {},
     "output_type": "display_data"
    },
    {
     "data": {
      "text/plain": [
       "<Figure size 640x480 with 0 Axes>"
      ]
     },
     "metadata": {},
     "output_type": "display_data"
    },
    {
     "data": {
      "text/plain": [
       "<Figure size 640x480 with 0 Axes>"
      ]
     },
     "metadata": {},
     "output_type": "display_data"
    },
    {
     "data": {
      "text/plain": [
       "<Figure size 640x480 with 0 Axes>"
      ]
     },
     "metadata": {},
     "output_type": "display_data"
    },
    {
     "data": {
      "text/plain": [
       "<Figure size 640x480 with 0 Axes>"
      ]
     },
     "metadata": {},
     "output_type": "display_data"
    },
    {
     "data": {
      "text/plain": [
       "<Figure size 640x480 with 0 Axes>"
      ]
     },
     "metadata": {},
     "output_type": "display_data"
    },
    {
     "data": {
      "text/plain": [
       "<Figure size 640x480 with 0 Axes>"
      ]
     },
     "metadata": {},
     "output_type": "display_data"
    },
    {
     "name": "stdout",
     "output_type": "stream",
     "text": [
      "Epoch 90, Loss: 13.4906\n"
     ]
    },
    {
     "data": {
      "text/plain": [
       "<Figure size 640x480 with 0 Axes>"
      ]
     },
     "metadata": {},
     "output_type": "display_data"
    },
    {
     "data": {
      "text/plain": [
       "<Figure size 640x480 with 0 Axes>"
      ]
     },
     "metadata": {},
     "output_type": "display_data"
    },
    {
     "data": {
      "text/plain": [
       "<Figure size 640x480 with 0 Axes>"
      ]
     },
     "metadata": {},
     "output_type": "display_data"
    },
    {
     "data": {
      "text/plain": [
       "<Figure size 640x480 with 0 Axes>"
      ]
     },
     "metadata": {},
     "output_type": "display_data"
    },
    {
     "data": {
      "text/plain": [
       "<Figure size 640x480 with 0 Axes>"
      ]
     },
     "metadata": {},
     "output_type": "display_data"
    },
    {
     "data": {
      "text/plain": [
       "<Figure size 640x480 with 0 Axes>"
      ]
     },
     "metadata": {},
     "output_type": "display_data"
    },
    {
     "data": {
      "text/plain": [
       "<Figure size 640x480 with 0 Axes>"
      ]
     },
     "metadata": {},
     "output_type": "display_data"
    },
    {
     "data": {
      "text/plain": [
       "<Figure size 640x480 with 0 Axes>"
      ]
     },
     "metadata": {},
     "output_type": "display_data"
    },
    {
     "data": {
      "text/plain": [
       "<Figure size 640x480 with 0 Axes>"
      ]
     },
     "metadata": {},
     "output_type": "display_data"
    },
    {
     "data": {
      "text/plain": [
       "<Figure size 640x480 with 0 Axes>"
      ]
     },
     "metadata": {},
     "output_type": "display_data"
    },
    {
     "name": "stdout",
     "output_type": "stream",
     "text": [
      "Epoch 100, Loss: 11.9899\n",
      "R-squared Score: -5.9858\n",
      "Mean Absolute Error: 2.9740\n",
      "Relative Error: 0.4904\n",
      "\n",
      "Test Loss: 10.4088\n",
      "Sample Prediction: 4.6317\n",
      "Sample True Value: 6.0000\n",
      "Parameter containing:\n",
      "tensor([[0.5641, 0.2428, 1.2369, 0.5383, 1.1887, 0.9469]], requires_grad=True)\n"
     ]
    }
   ],
   "execution_count": 46
  },
  {
   "cell_type": "markdown",
   "id": "8c7e3bae",
   "metadata": {},
   "source": [
    "As we can see, the model is not very good at predicting the wellbeing of the participants.\n",
    "To be exact, the model is a lot worse then simply calculating the mean of the wellbeing of the participants.\n",
    "\n",
    "This is to be expected, because we have few and sparse data. Furthermore, there are two participants and we have time series data, which is not factored into the model.\n",
    "\n",
    "But it was a fun exercise to try to predict wellbeing with a neural network."
   ]
  },
  {
   "cell_type": "markdown",
   "id": "87b2eb03",
   "metadata": {},
   "source": [
    "### Lets try to predict wellbeing with a simple linear regression model"
   ]
  },
  {
   "cell_type": "code",
   "id": "d1bc2a61",
   "metadata": {
    "ExecuteTime": {
     "end_time": "2025-02-18T18:43:56.281292Z",
     "start_time": "2025-02-18T18:43:56.173594Z"
    }
   },
   "source": [
    "# Create simple linear regression model using only the 'time' feature\n",
    "from sklearn.linear_model import LinearRegression\n",
    "from sklearn.metrics import r2_score\n",
    "\n",
    "# Prepare the data (using only 'time' as feature)\n",
    "X_time = df_1[['time']].values\n",
    "y = df_1['wellbeing'].values\n",
    "\n",
    "# Split the data\n",
    "X_train, X_test, y_train, y_test = sklearn.model_selection.train_test_split(\n",
    "    X_time, y, test_size=0.2, random_state=42\n",
    ")\n",
    "\n",
    "# Create and train the model\n",
    "model = LinearRegression()\n",
    "model.fit(X_train, y_train)\n",
    "\n",
    "# Make predictions and evaluate\n",
    "y_pred = model.predict(X_test)\n",
    "r2 = r2_score(y_test, y_pred)\n",
    "\n",
    "print(f\"Coefficient (slope): {model.coef_[0]:.4f}\")\n",
    "print(f\"Intercept: {model.intercept_:.4f}\")\n",
    "print(f\"R-squared Score: {r2:.4f}\")\n",
    "\n",
    "# Visualize the regression line\n",
    "plt.figure(figsize=(10, 6))\n",
    "plt.scatter(df_all['time'], df_all['wellbeing'], alpha=0.5, label='Data points')\n",
    "plt.plot(X_time, model.predict(X_time), color='red', label='Regression line')\n",
    "plt.xlabel('Work Time (hours)')\n",
    "plt.ylabel('Wellbeing')\n",
    "plt.title('Linear Regression: Wellbeing vs Work Time')\n",
    "plt.legend()\n",
    "plt.show()\n",
    "\n"
   ],
   "outputs": [
    {
     "name": "stdout",
     "output_type": "stream",
     "text": [
      "Coefficient (slope): 0.0956\n",
      "Intercept: 6.1948\n",
      "R-squared Score: 0.2520\n"
     ]
    },
    {
     "data": {
      "text/plain": [
       "<Figure size 1000x600 with 1 Axes>"
      ],
      "image/png": "[encoded data removed]"
     },
     "metadata": {},
     "output_type": "display_data"
    }
   ],
   "execution_count": 47
  },
  {
   "cell_type": "markdown",
   "id": "f099e060",
   "metadata": {},
   "source": [
    "### Training a nn on surrogate data\n",
    "#### To see if the nn is able to recover the parameters from the surrogate data and to see if our approach works in principle\n"
   ]
  },
  {
   "cell_type": "code",
   "id": "96cda6d2",
   "metadata": {
    "ExecuteTime": {
     "end_time": "2025-02-18T18:43:56.346680Z",
     "start_time": "2025-02-18T18:43:56.308713Z"
    }
   },
   "source": [
    "### Lets create some surrogate data and train a nn on it, because we have so little data\n",
    "\n",
    "np.random.seed(42)\n",
    "torch.manual_seed(42)  # Set a random seed for PyTorch\n",
    "num_features = 6\n",
    "boolean_features = 0\n",
    "total_features = num_features + boolean_features\n",
    "\n",
    "# Create a simple function to generate surrogate data\n",
    "def generate_surrogate_data(n_samples=50, n_num_features=6, n_boolean_features=0):\n",
    "    \"\"\"\n",
    "    Generate surrogate data with random correlations between features.\n",
    "    \"\"\"\n",
    "    total_features = n_num_features + n_boolean_features\n",
    "    # Generate random weights for each feature\n",
    "    weights = np.random.uniform(-1, 1, total_features)\n",
    "    print(\"original weights\", weights)\n",
    "    # Generate random data\n",
    "    boolean_data = np.random.randint(0, 2, (n_samples, n_boolean_features))\n",
    "    num_data = np.random.randn(n_samples, n_num_features)\n",
    "    data = np.concatenate([boolean_data, num_data], axis=1)\n",
    "    # Calculate the target as a linear combination of the features\n",
    "    target = np.dot(data, weights) \n",
    "    return data, target\n",
    "\n",
    "# Generate surrogate data\n",
    "data, target = generate_surrogate_data(n_num_features=num_features, n_boolean_features=boolean_features)\n",
    "\n",
    "# Split the data into training and test set\n",
    "X_train, X_test, y_train, y_test = sklearn.model_selection.train_test_split(data, target, test_size=0.2, random_state=42)\n",
    "\n",
    "# Convert to PyTorch tensors\n",
    "X_train_tensor = torch.tensor(X_train, dtype=torch.float32)\n",
    "y_train_tensor = torch.tensor(y_train, dtype=torch.float32).view(-1, 1)\n",
    "\n",
    "X_test_tensor = torch.tensor(X_test, dtype=torch.float32)\n",
    "y_test_tensor = torch.tensor(y_test, dtype=torch.float32).view(-1, 1)\n",
    "\n",
    "# Train a neural network on the surrogate data\n",
    "class Net2(nn.Module):\n",
    "    def __init__(self):\n",
    "        super(Net2, self).__init__()\n",
    "        self.linear_relu_stack = nn.Sequential( \n",
    "            nn.Linear(total_features, 1),\n",
    "        )\n",
    "    def forward(self, x):\n",
    "        return self.linear_relu_stack(x)\n",
    "\n",
    "net = Net2()\n",
    "\n",
    "# Define the loss function and optimizer\n",
    "loss_fn = nn.MSELoss()\n",
    "optimizer = optim.Adam(net.parameters(), lr=0.01)\n",
    "\n",
    "for epoch in range(100):\n",
    "    optimizer.zero_grad()\n",
    "    outputs = net(X_train_tensor)\n",
    "    loss = loss_fn(outputs, y_train_tensor)\n",
    "    loss.backward()\n",
    "    optimizer.step()\n",
    "    \n",
    "    # if (epoch + 1) % 10 == 0:  # Print loss every 10 epochs\n",
    "    # print(f\"Epoch {epoch+1}, Loss: {loss.item():.4f}\")\n",
    "\n",
    "with torch.no_grad():\n",
    "    test_outputs = net(X_test_tensor)\n",
    "    test_loss = loss_fn(test_outputs, y_test_tensor)\n",
    "    \n",
    "    y_pred = test_outputs.detach().numpy()  # Proper tensor conversion\n",
    "    y_true = y_test_tensor.numpy()  # Ensure y_test is also NumPy\n",
    "\n",
    "    # Compute R²\n",
    "    r2 = 1 - np.sum((y_true - y_pred) ** 2) / np.sum((y_true - y_true.mean()) ** 2)\n",
    "\n",
    "    # Mean Absolute Error (MAE)\n",
    "    mae = np.mean(np.abs(y_true - y_pred))\n",
    "\n",
    "    # Relative Error (RE) - with division safety\n",
    "    re = np.mean(np.abs((y_true - y_pred) / (y_true + 1e-8)))\n",
    "\n",
    "    print(f\"R-squared Score: {r2:.4f}\")\n",
    "    print(f\"Mean Absolute Error: {mae:.4f}\")\n",
    "    print(f\"Relative Error: {re:.4f}\")\n",
    "\n",
    "print(\"recovered weights\")\n",
    "print(net.linear_relu_stack[0].weight)\n",
    "print()\n",
    "\n",
    "print(\"error\")\n",
    "print(test_loss.item())\n",
    "print(r2)"
   ],
   "outputs": [
    {
     "name": "stdout",
     "output_type": "stream",
     "text": [
      "original weights [-0.25091976  0.90142861  0.46398788  0.19731697 -0.68796272 -0.68801096]\n",
      "R-squared Score: 0.9941\n",
      "Mean Absolute Error: 0.0806\n",
      "Relative Error: 0.0624\n",
      "recovered weights\n",
      "Parameter containing:\n",
      "tensor([[-0.2440,  0.8934,  0.4376,  0.1920, -0.6808, -0.6073]],\n",
      "       requires_grad=True)\n",
      "\n",
      "error\n",
      "0.010096751153469086\n",
      "0.99412614\n"
     ]
    }
   ],
   "execution_count": 48
  },
  {
   "cell_type": "markdown",
   "id": "b668a797",
   "metadata": {},
   "source": [
    "As we can see, the nn is able to recover the parameters from the surrogate data with a high accuracy.\n",
    "Furthmore the error is very low, which is good. Even with a low number of samples (50), the nn is able to recover the parameters quite well.\n",
    "\n",
    "To be fair, the data is very simple and only has this linear relationship, so it is not surprising that the nn is able to recover the parameters.\n"
   ]
  },
  {
   "metadata": {},
   "cell_type": "markdown",
   "source": "# Wordcloud from gratitude notes",
   "id": "4e053ebaf09989c"
  },
  {
   "metadata": {
    "ExecuteTime": {
     "end_time": "2025-02-18T18:43:56.549917Z",
     "start_time": "2025-02-18T18:43:56.374918Z"
    }
   },
   "cell_type": "code",
   "source": [
    "import pandas as pd\n",
    "import numpy as np\n",
    "import matplotlib.pyplot as plt\n",
    "import nltk\n",
    "import re\n",
    "\n",
    "from nltk import WordNetLemmatizer\n",
    "from nltk.corpus import stopwords\n",
    "from numpy.ma.core import indices\n",
    "from wordcloud import WordCloud\n",
    "nltk.download('punkt_tab')\n",
    "\n",
    "\n",
    "def rm_special_char(text):\n",
    "    print(text)\n",
    "    text = re.sub(r'\\\\n', ' ', text)\n",
    "    text = re.sub(r'[^a-z^ä^ü^ö^ß^é(\\s]', '', text) #using regex to remove all characters that are non-numeric and not a lower case letter and not a space by replacing with ''\n",
    "    text = re.sub(r'lucas', 'luca', text)\n",
    "    text = text.strip()\n",
    "    print(text)\n",
    "    return text\n",
    "\n",
    "def tokenize(text):\n",
    "    text = nltk.word_tokenize(text)\n",
    "    return text\n",
    "\n",
    "def rm_stopwords(text):\n",
    "    stop_words = stopwords.words('german')\n",
    "    stop_words.extend(stopwords.words('english'))\n",
    "    stop_words.extend(['beim', 'denen', 'viele', 'nan', 'e', 'al', 'wa', 'aufm', 'nice', 'good', 'lot', 'cool', 'much'])\n",
    "    text_without_stopwords = [word for word in text if word not in stop_words]\n",
    "    return text_without_stopwords\n",
    "\n",
    "def lemmatize(text):\n",
    "    lemmatizer = WordNetLemmatizer()\n",
    "    for i in range(len(text)):\n",
    "        text[i] = lemmatizer.lemmatize(text[i], pos='n') #lemmatizing as noun\n",
    "        text[i] = lemmatizer.lemmatize(text[i], pos='v') #lemmatizing as verb (if no corresponding form is found, the word remains unchanged)\n",
    "    return text\n",
    "\n",
    "def preprocess(text):\n",
    "    text = str(text)\n",
    "    text = text.lower()\n",
    "    text = rm_special_char(text)\n",
    "    text = tokenize(text)\n",
    "    text = lemmatize(text)\n",
    "    text = rm_stopwords(text)\n",
    "    print(text)\n",
    "    return text\n",
    "\n",
    "def barchart_words(word_counts, num_words_to_diagram = 10):\n",
    "    mostfreqn = num_words_to_diagram\n",
    "    frequency = [y for (x, y) in word_counts][:mostfreqn]\n",
    "    word = [x for (x, y) in word_counts][:mostfreqn]\n",
    "    indices = np.arange(len(word_counts[:mostfreqn]))\n",
    "    plt.bar(indices, frequency, color='r')\n",
    "    plt.xticks(indices, word, rotation='vertical')\n",
    "    plt.tight_layout()\n",
    "    plt.show()\n",
    "\n",
    "def wordcloud_words(word_counts, num_words_to_diagram = 20):\n",
    "    word_counts_top_words = word_counts[:num_words_to_diagram]\n",
    "    # Create a dictionary that maps words to their frequencies\n",
    "    word_count_dict = {word: count for word, count in word_counts_top_words}\n",
    "\n",
    "    # Create a WordCloud object\n",
    "    wordcloud = WordCloud(width=800, height=400, background_color='white')\n",
    "\n",
    "    # Generate the word cloud\n",
    "    wordcloud.generate_from_frequencies(word_count_dict)\n",
    "\n",
    "    # Display the word cloud using matplotlib\n",
    "    plt.figure(figsize=(10, 5))\n",
    "    plt.imshow(wordcloud, interpolation='bilinear')\n",
    "\n",
    "    plt.axis(\"off\")\n",
    "    plt.show()\n",
    "\n",
    "df = pd.read_csv('data/gratitude_entries-2025-02-17_jeelka.csv')\n",
    "print(df.head())\n",
    "preprocessed_entries = [preprocess(entry) for entry in df[('gratitude')]]\n",
    "preprocessed_entries_flat = [word for lst in preprocessed_entries for word in lst]\n",
    "word_count = nltk.FreqDist(preprocessed_entries_flat)\n",
    "word_count_top_words = word_count.most_common(1000)\n",
    "# barchart_words(word_count_top_words, 20)\n",
    "wordcloud_words(word_count_top_words, 20)"
   ],
   "id": "7723ea2718f57528",
   "outputs": [
    {
     "name": "stdout",
     "output_type": "stream",
     "text": [
      "                                           gratitude\n",
      "0  Eingerollter Vusko, Luca Kuschelbedürfnis, Kin...\n",
      "1                       50 push-ups, Selbstgespräche\n",
      "2  Jendriks Bioladen sehen: entspannte Atmosphäre...\n",
      "3                          Ruhe und Coden, Pygmalion\n",
      "4  So viele Verwandte, mit denen ich reden kann. ...\n",
      "eingerollter vusko, luca kuschelbedürfnis, kindervideos gucken und tanzen\n",
      "eingerollter vusko luca kuschelbedürfnis kindervideos gucken und tanzen\n",
      "['eingerollter', 'vusko', 'luca', 'kuschelbedürfnis', 'kindervideos', 'gucken', 'tanzen']\n",
      "50 push-ups, selbstgespräche\n",
      "pushups selbstgespräche\n",
      "['pushup', 'selbstgespräche']\n",
      "jendriks bioladen sehen: entspannte atmosphäre, luca 1000 küsse\n",
      "jendriks bioladen sehen entspannte atmosphäre luca  küsse\n",
      "['jendriks', 'bioladen', 'sehen', 'entspannte', 'atmosphäre', 'luca', 'küsse']\n",
      "ruhe und coden, pygmalion\n",
      "ruhe und coden pygmalion\n",
      "['ruhe', 'coden', 'pygmalion']\n",
      "so viele verwandte, mit denen ich reden kann. eltern, mit denen ich analysieren kann, was gerade bei mir abgeht\n",
      "so viele verwandte mit denen ich reden kann eltern mit denen ich analysieren kann was gerade bei mir abgeht\n",
      "['verwandte', 'reden', 'eltern', 'analysieren', 'gerade', 'abgeht']\n",
      "luca's freunde kennenlernen und sich gut mit denen verstehen\n",
      "luca freunde kennenlernen und sich gut mit denen verstehen\n",
      "['luca', 'freunde', 'kennenlernen', 'gut', 'verstehen']\n",
      "mit luca als ente aufm badezimmerboden hocken\n",
      "reges raclette\n",
      "mit luca als ente aufm badezimmerboden hocken\n",
      "reges raclette\n",
      "['luca', 'ente', 'badezimmerboden', 'hocken', 'reges', 'raclette']\n",
      "schöner spaziergang mit luca, familie wiedersehen\n",
      "schöner spaziergang mit luca familie wiedersehen\n",
      "['schöner', 'spaziergang', 'luca', 'familie', 'wiedersehen']\n",
      "reflexionszeit - chaos ordnen \n",
      "silvester feiern mit luca und coolen leuten\n",
      "reflexionszeit  chaos ordnen \n",
      "silvester feiern mit luca und coolen leuten\n",
      "['reflexionszeit', 'chaos', 'ordnen', 'silvester', 'feiern', 'luca', 'coolen', 'leuten']\n",
      "bastelzeit, tee mit familie\n",
      "bastelzeit tee mit familie\n",
      "['bastelzeit', 'tee', 'familie']\n",
      "baden mit luca, produktivitätsreflexion, warmes haus, keine haushaltsaufgaben, sonnenstrahlen\n",
      "baden mit luca produktivitätsreflexion warmes haus keine haushaltsaufgaben sonnenstrahlen\n",
      "['baden', 'luca', 'produktivitätsreflexion', 'warm', 'haus', 'haushaltsaufgaben', 'sonnenstrahlen']\n",
      "oma eine freude machen können: ihr strahlen und ihre zufriedenheit \n",
      "im café sitzen, reden und die stimmung genießen \n",
      "luca die alten dias zeigen \n",
      "mit luca rulleke backen, schreien und tanzen\n",
      "mehr fokus beim lernen, reflektieren können\n",
      "oma eine freude machen können ihr strahlen und ihre zufriedenheit \n",
      "im café sitzen reden und die stimmung genießen \n",
      "luca die alten dias zeigen \n",
      "mit luca rulleke backen schreien und tanzen\n",
      "mehr fokus beim lernen reflektieren können\n",
      "['oma', 'freude', 'strahlen', 'zufriedenheit', 'café', 'sitzen', 'reden', 'stimmung', 'genießen', 'luca', 'alten', 'dia', 'zeigen', 'luca', 'rulleke', 'backen', 'schreien', 'tanzen', 'mehr', 'fokus', 'lernen', 'reflektieren']\n",
      "essen mit familie, speckendicken, traditionen \n",
      "eltern fahren uns nach brücki \n",
      "luca tröstet heimweh, schönes gespräch über zeit, familie, altern\n",
      "essen mit familie speckendicken traditionen \n",
      "eltern fahren uns nach brücki \n",
      "luca tröstet heimweh schönes gespräch über zeit familie altern\n",
      "['essen', 'familie', 'speckendicken', 'traditionen', 'eltern', 'fahren', 'un', 'brücki', 'luca', 'tröstet', 'heimweh', 'schönes', 'gespräch', 'zeit', 'familie', 'altern']\n",
      "pistaziencreme, luca umarmen, heizung haben, wohlfühlwohnung\n",
      "pistaziencreme luca umarmen heizung haben wohlfühlwohnung\n",
      "['pistaziencreme', 'luca', 'umarmen', 'heizung', 'wohlfühlwohnung']\n",
      "schönes tutorium, viele fragen beantwortet \n",
      "witziger gast coen, schön mit vielen coxis ice skaten zu gehen\n",
      "luca, der mir beim coden hilft\n",
      "schönes tutorium viele fragen beantwortet \n",
      "witziger gast coen schön mit vielen coxis ice skaten zu gehen\n",
      "luca der mir beim coden hilft\n",
      "['schönes', 'tutorium', 'fragen', 'beantwortet', 'witziger', 'gast', 'coen', 'schön', 'vielen', 'coxis', 'ice', 'skaten', 'gehen', 'luca', 'coden', 'hilft']\n",
      "puzzle, spaziergang und tiefe unterhaltung mit luca, sonnenkalender zu ende basteln, essen bei orchideen bubble tea, exit puzzle\n",
      "puzzle spaziergang und tiefe unterhaltung mit luca sonnenkalender zu ende basteln essen bei orchideen bubble tea exit puzzle\n",
      "['puzzle', 'spaziergang', 'tiefe', 'unterhaltung', 'luca', 'sonnenkalender', 'ende', 'basteln', 'essen', 'orchideen', 'bubble', 'tea', 'exit', 'puzzle']\n",
      "staying home, sonnenstrahlen, im assignment vorankommen, suppe kochen, luca umarmen\n",
      "staying home sonnenstrahlen im assignment vorankommen suppe kochen luca umarmen\n",
      "['stay', 'home', 'sonnenstrahlen', 'assignment', 'vorankommen', 'suppe', 'kochen', 'luca', 'umarmen']\n",
      "menschen zusammen bringen beim refreshment, stats noch schaffen, menschen, die mich unterstützen\n",
      "menschen zusammen bringen beim refreshment stats noch schaffen menschen die mich unterstützen\n",
      "['menschen', 'zusammen', 'bringen', 'refreshment', 'stats', 'schaffen', 'menschen', 'unterstützen']\n",
      "luca zeit verbringen, zeit im grüner jäger, munter aufwachen, alle vorhaben schaffen, ich kann noch durchkommen beim kickboxen\n",
      "luca zeit verbringen zeit im grüner jäger munter aufwachen alle vorhaben schaffen ich kann noch durchkommen beim kickboxen\n",
      "['luca', 'zeit', 'verbringen', 'zeit', 'grüner', 'jäger', 'munter', 'aufwachen', 'vorhaben', 'schaffen', 'durchkommen', 'kickboxen']\n",
      "entspannungszeit, zeit mit luca und pisa\n",
      "entspannungszeit zeit mit luca und pisa\n",
      "['entspannungszeit', 'zeit', 'luca', 'pisa']\n",
      "spaziergang mit annika, logic und gespräch mit luca, entspannt assignment coden\n",
      "spaziergang mit annika logic und gespräch mit luca entspannt assignment coden\n",
      "['spaziergang', 'annika', 'logic', 'gespräch', 'luca', 'entspannt', 'assignment', 'coden']\n",
      "luca, wohnung, schlaf, ohrenstöpsel, reden mit hanna, gemeinsam kochen, gute experimentdaten providen, stabile beziehungen, dankbarkeit mit luca\n",
      "luca wohnung schlaf ohrenstöpsel reden mit hanna gemeinsam kochen gute experimentdaten providen stabile beziehungen dankbarkeit mit luca\n",
      "['luca', 'wohnung', 'schlaf', 'ohrenstöpsel', 'reden', 'hanna', 'gemeinsam', 'kochen', 'gute', 'experimentdaten', 'providen', 'stabile', 'beziehungen', 'dankbarkeit', 'luca']\n",
      "spieleabend, rumalbern, in deep learning vertiefen, studie quiz, café mit luca\n",
      "spieleabend rumalbern in deep learning vertiefen studie quiz café mit luca\n",
      "['spieleabend', 'rumalbern', 'deep', 'learn', 'vertiefen', 'studie', 'quiz', 'café', 'luca']\n",
      "lesen, musik, luca bringt mir stracciatella joghurt mit\n",
      "lesen musik luca bringt mir stracciatella joghurt mit\n",
      "['lesen', 'musik', 'luca', 'bringt', 'stracciatella', 'joghurt']\n",
      "heimat, zuhause ankommen, vusko, familie, kurs fällt aus und ich habe auf einmal zeit, probe exam bauen zusammen mit cara, luca packt mein buch ein, erinnerung: busfahrer fährt extrarunde im kreisel\n",
      "heimat zuhause ankommen vusko familie kurs fällt aus und ich habe auf einmal zeit probe exam bauen zusammen mit cara luca packt mein buch ein erinnerung busfahrer fährt extrarunde im kreisel\n",
      "['heimat', 'zuhause', 'ankommen', 'vusko', 'familie', 'kurs', 'fällt', 'au', 'zeit', 'probe', 'exam', 'bauen', 'zusammen', 'cara', 'luca', 'packt', 'buch', 'erinnerung', 'busfahrer', 'fährt', 'extrarunde', 'kreisel']\n",
      "vusco, lesen, sport machen, familie und großes haus haben\n",
      "vusco lesen sport machen familie und großes haus haben\n",
      "['vusco', 'lesen', 'sport', 'familie', 'großes', 'haus']\n",
      "lesen, luca weil er verständnisvoll ist und für mich da sein will, soja zudels, papa der mich zum bahnhof fährt\n",
      "lesen luca weil er verständnisvoll ist und für mich da sein will soja zudels papa der mich zum bahnhof fährt\n",
      "['lesen', 'luca', 'verständnisvoll', 'soja', 'zudels', 'papa', 'bahnhof', 'fährt']\n",
      "vusko, lesen, opa eine freude machen, in ruhe denken\n",
      "vusko lesen opa eine freude machen in ruhe denken\n",
      "['vusko', 'lesen', 'opa', 'freude', 'ruhe', 'denken']\n",
      "anne auf green gables lesen, text schreiben, spaziergang mit familie, lustige telegramm unterhaltung, vor dem kamin sitzen und entspannen\n",
      "anne auf green gables lesen text schreiben spaziergang mit familie lustige telegramm unterhaltung vor dem kamin sitzen und entspannen\n",
      "['anne', 'green', 'gable', 'lesen', 'text', 'schreiben', 'spaziergang', 'familie', 'lustige', 'telegramm', 'unterhaltung', 'kamin', 'sitzen', 'entspannen']\n",
      "mehr freizeit, fokussiertes arbeiten, energie zum sport machen, spaziergang in der natur, matschige hosen, wind in den bäumen, anne buch, ausprobier zeit mit luca, lecker türkischer kaffee, eis kaputt machen\n",
      "mehr freizeit fokussiertes arbeiten energie zum sport machen spaziergang in der natur matschige hosen wind in den bäumen anne buch ausprobier zeit mit luca lecker türkischer kaffee eis kaputt machen\n",
      "['mehr', 'freizeit', 'fokussiertes', 'arbeiten', 'energie', 'sport', 'spaziergang', 'natur', 'matschige', 'hosen', 'wind', 'bäumen', 'anne', 'buch', 'ausprobier', 'zeit', 'luca', 'lecker', 'türkischer', 'kaffee', 'eis', 'kaputt']\n",
      "übernachten bei cata, regen an den fenstern, präsentation improvisieren\n",
      "übernachten bei cata regen an den fenstern präsentation improvisieren\n",
      "['übernachten', 'cata', 'regen', 'fenstern', 'präsentation', 'improvisieren']\n",
      "cata, bei der wir übernachten können und ihre schöne wohnung \n",
      "neue erfahrungen beim hackathon, gutes essen, sich selbst hinterfragen und besser kennenlernen, offene menschen\n",
      "cata bei der wir übernachten können und ihre schöne wohnung \n",
      "neue erfahrungen beim hackathon gutes essen sich selbst hinterfragen und besser kennenlernen offene menschen\n",
      "['cata', 'übernachten', 'schöne', 'wohnung', 'neue', 'erfahrungen', 'hackathon', 'gut', 'essen', 'hinterfragen', 'besser', 'kennenlernen', 'offene', 'menschen']\n",
      "hackathon sieg, leute kennenlernen, selbst noch ein paar probleme probiert, wieder zuhause sein, zugfahrt gut überstanden\n",
      "hackathon sieg leute kennenlernen selbst noch ein paar probleme probiert wieder zuhause sein zugfahrt gut überstanden\n",
      "['hackathon', 'sieg', 'leute', 'kennenlernen', 'paar', 'probleme', 'probiert', 'zuhause', 'zugfahrt', 'gut', 'überstanden']\n",
      "spaziergang und der pinkelnde ritter, entspannungsmusik und luca's massage, morgensport, reflexionszeit, mit luca restaurants evaluieren, kuscheln aufm sofa, küssen, geborgenheit\n",
      "spaziergang und der pinkelnde ritter entspannungsmusik und luca massage morgensport reflexionszeit mit luca restaurants evaluieren kuscheln aufm sofa küssen geborgenheit\n",
      "['spaziergang', 'pinkelnde', 'ritter', 'entspannungsmusik', 'luca', 'massage', 'morgensport', 'reflexionszeit', 'luca', 'restaurant', 'evaluieren', 'kuscheln', 'sofa', 'küssen', 'geborgenheit']\n",
      "zeitplan mit puffer, motivation bei theoretical linguistics, präsentieren und erklären lernen, fantastisches gespräch mit luca und brainstromen, lecture von havard typ\n",
      "zeitplan mit puffer motivation bei theoretical linguistics präsentieren und erklären lernen fantastisches gespräch mit luca und brainstromen lecture von havard typ\n",
      "['zeitplan', 'puffer', 'motivation', 'theoretical', 'linguistics', 'präsentieren', 'erklären', 'lernen', 'fantastisches', 'gespräch', 'luca', 'brainstromen', 'lecture', 'havard', 'typ']\n",
      "lesen, madness modus, luca kocht, fantasie\n",
      "lesen madness modus luca kocht fantasie\n",
      "['lesen', 'madness', 'modus', 'luca', 'kocht', 'fantasie']\n",
      "pausen zwischendurch, luca kuscheln, spaß an theoretical linguistics, mit oma telefonieren, über kaffee lernen und coxi gespräche\n",
      "pausen zwischendurch luca kuscheln spaß an theoretical linguistics mit oma telefonieren über kaffee lernen und coxi gespräche\n",
      "['pausen', 'zwischendurch', 'luca', 'kuscheln', 'spaß', 'theoretical', 'linguistics', 'oma', 'telefonieren', 'kaffee', 'lernen', 'coxi', 'gespräche']\n",
      "frühlingswetter, spaziergang, sonnenstrahlen, besseres gefühl für stats, in luca's armen lesen, klimmzüge,\n",
      "frühlingswetter spaziergang sonnenstrahlen besseres gefühl für stats in luca armen lesen klimmzüge\n",
      "['frühlingswetter', 'spaziergang', 'sonnenstrahlen', 'besseres', 'gefühl', 'stats', 'luca', 'armen', 'lesen', 'klimmzüge']\n",
      "tee pause auf dem sofa, lesen, alles schaffen, essen\n",
      "tee pause auf dem sofa lesen alles schaffen essen\n",
      "['tee', 'pause', 'sofa', 'lesen', 'schaffen', 'essen']\n",
      "lesen, wenig aufgaben, sport machen, nachts rumlaufen können\n",
      "lesen wenig aufgaben sport machen nachts rumlaufen können\n",
      "['lesen', 'wenig', 'aufgaben', 'sport', 'nachts', 'rumlaufen']\n",
      "spaziergang in der sonne, sven anklingeln, akustik am wasserfall vom botanischen garten, auf eisfläche schlittern, hase der über die straße rennt, kaninchen, verwandte seelen und über reisen reden, in gedanken reisen, mit anne lachen und weinen, luca\n",
      "spaziergang in der sonne sven anklingeln akustik am wasserfall vom botanischen garten auf eisfläche schlittern hase der über die straße rennt kaninchen verwandte seelen und über reisen reden in gedanken reisen mit anne lachen und weinen luca\n",
      "['spaziergang', 'sonne', 'sven', 'anklingeln', 'akustik', 'wasserfall', 'botanischen', 'garten', 'eisfläche', 'schlittern', 'hase', 'straße', 'rennt', 'kaninchen', 'verwandte', 'seelen', 'reisen', 'reden', 'gedanken', 'reisen', 'anne', 'lachen', 'weinen', 'luca']\n",
      "einen ähnlichen menschen kennenlernen, michaels erzählungen ohne roten faden, bäumchen eintopfen, gemeinsam aufm sofa chillen, lesen, frühlingswetter\n",
      "einen ähnlichen menschen kennenlernen michaels erzählungen ohne roten faden bäumchen eintopfen gemeinsam aufm sofa chillen lesen frühlingswetter\n",
      "['ähnlichen', 'menschen', 'kennenlernen', 'michael', 'erzählungen', 'roten', 'faden', 'bäumchen', 'eintopfen', 'gemeinsam', 'sofa', 'chillen', 'lesen', 'frühlingswetter']\n",
      "sonne, spazieren gehen, autokennzeichennummer suchspiel, apfelstrudel\n",
      "sonne spazieren gehen autokennzeichennummer suchspiel apfelstrudel\n",
      "['sonne', 'spazieren', 'gehen', 'autokennzeichennummer', 'suchspiel', 'apfelstrudel']\n",
      "power nap, tee trinken und frei denken, essen mit hanna, zwei klimmzüge, motivation beim lernen\n",
      "power nap tee trinken und frei denken essen mit hanna zwei klimmzüge motivation beim lernen\n",
      "['power', 'nap', 'tee', 'trinken', 'frei', 'denken', 'essen', 'hanna', 'zwei', 'klimmzüge', 'motivation', 'lernen']\n",
      "bad putzen, lesen, spaß bei der lecture, haushalt schaffen, luca\n",
      "bad putzen lesen spaß bei der lecture haushalt schaffen luca\n",
      "['bad', 'putzen', 'lesen', 'spaß', 'lecture', 'haushalt', 'schaffen', 'luca']\n",
      "cooler couchsurfing gast, reden über sprache, luca und unser alltag, pflanzen umtopfen, racho und lok wiedersehen, nichts tun pause\n",
      "cooler couchsurfing gast reden über sprache luca und unser alltag pflanzen umtopfen racho und lok wiedersehen nichts tun pause\n",
      "['cooler', 'couchsurfing', 'gast', 'reden', 'sprache', 'luca', 'alltag', 'pflanzen', 'umtopfen', 'racho', 'lok', 'wiedersehen', 'tun', 'pause']\n",
      "stracciatella joghurt, müder süßer luca, power nap, mein neuer schreibtisch, basteln und lecture gucken, raus gehen\n",
      "stracciatella joghurt müder süßer luca power nap mein neuer schreibtisch basteln und lecture gucken raus gehen\n",
      "['stracciatella', 'joghurt', 'müder', 'süßer', 'luca', 'power', 'nap', 'neuer', 'schreibtisch', 'basteln', 'lecture', 'gucken', 'raus', 'gehen']\n",
      "couchsurfer, air hockey mit lok und einer fünf cent münze, schnurtelefon, deep learning mit tom und viele leute haben, die man kennt und mag, neuer schreibtisch\n",
      "couchsurfer air hockey mit lok und einer fünf cent münze schnurtelefon deep learning mit tom und viele leute haben die man kennt und mag neuer schreibtisch\n",
      "['couchsurfer', 'air', 'hockey', 'lok', 'fünf', 'cent', 'münze', 'schnurtelefon', 'deep', 'learn', 'tom', 'leute', 'kennt', 'mag', 'neuer', 'schreibtisch']\n",
      "study hard, rubbenbruchsee spaziergang, gehirn ausruhen, auf dem sofa liegen, über die natur staunen, vorlesen, massage, luca, sonne, der typ mit kleinem hund im arm, die tief gelegte katze\n",
      "study hard rubbenbruchsee spaziergang gehirn ausruhen auf dem sofa liegen über die natur staunen vorlesen massage luca sonne der typ mit kleinem hund im arm die tief gelegte katze\n",
      "['study', 'hard', 'rubbenbruchsee', 'spaziergang', 'gehirn', 'ausruhen', 'sofa', 'liegen', 'natur', 'staunen', 'vorlesen', 'massage', 'luca', 'sonne', 'typ', 'kleinem', 'hund', 'arm', 'tief', 'gelegte', 'katze']\n",
      "klausur geschafft, mit leuten mensen, logic tutorium geben: gefühl, sachen zu verstehen und vermittelt zu können, morgens brot holen und sport machen, gespräch mit samuel\n",
      "klausur geschafft mit leuten mensen logic tutorium geben gefühl sachen zu verstehen und vermittelt zu können morgens brot holen und sport machen gespräch mit samuel\n",
      "['klausur', 'geschafft', 'leuten', 'mensen', 'logic', 'tutorium', 'geben', 'gefühl', 'sachen', 'verstehen', 'vermittelt', 'morgen', 'brot', 'holen', 'sport', 'gespräch', 'samuel']\n",
      "struktur, spaziergang zur mensa, luca\n",
      "struktur spaziergang zur mensa luca\n",
      "['struktur', 'spaziergang', 'mensa', 'luca']\n",
      "klausur geschafft, zeitreise im füllerladen, füller, gespräch mit kjell, fürsorglicher luca, 9 und 10 gefunden\n",
      "klausur geschafft zeitreise im füllerladen füller gespräch mit kjell fürsorglicher luca  und  gefunden\n",
      "['klausur', 'geschafft', 'zeitreise', 'füllerladen', 'füller', 'gespräch', 'kjell', 'fürsorglicher', 'luca', 'gefunden']\n",
      "spülmaschine, luca, stracciatella joghurt, positive lebenseinstellung von youtuberin\n",
      "spülmaschine luca stracciatella joghurt positive lebenseinstellung von youtuberin\n",
      "['spülmaschine', 'luca', 'stracciatella', 'joghurt', 'positive', 'lebenseinstellung', 'youtuberin']\n",
      "im zug sitzen und nachdenken können, ohrenstöpsel, zeit für sich haben, coole menschen, natur am zauberberg\n",
      "im zug sitzen und nachdenken können ohrenstöpsel zeit für sich haben coole menschen natur am zauberberg\n",
      "['zug', 'sitzen', 'nachdenken', 'ohrenstöpsel', 'zeit', 'coole', 'menschen', 'natur', 'zauberberg']\n",
      "sauna, gutes essen, mittagspause, gespräch über kaffee, neue eindrücke\n",
      "sauna gutes essen mittagspause gespräch über kaffee neue eindrücke\n",
      "['sauna', 'gut', 'essen', 'mittagspause', 'gespräch', 'kaffee', 'neue', 'eindrücke']\n",
      "pünktliche züge, familie wiedersehen, vusco, vertragen mit luca, musik und lesen, sonne\n",
      "pünktliche züge familie wiedersehen vusco vertragen mit luca musik und lesen sonne\n",
      "['pünktliche', 'züge', 'familie', 'wiedersehen', 'vusco', 'vertragen', 'luca', 'musik', 'lesen', 'sonne']\n",
      "nan\n",
      "nan\n",
      "[]\n"
     ]
    },
    {
     "name": "stderr",
     "output_type": "stream",
     "text": [
      "[nltk_data] Downloading package punkt_tab to /home/jeelka/nltk_data...\n",
      "[nltk_data]   Package punkt_tab is already up-to-date!\n"
     ]
    },
    {
     "data": {
      "text/plain": [
       "<Figure size 1000x500 with 1 Axes>"
      ],
      "image/png": "[encoded data removed]"
     },
     "metadata": {},
     "output_type": "display_data"
    }
   ],
   "execution_count": 49
  }
 ],
 "metadata": {
  "kernelspec": {
   "display_name": "myenv",
   "language": "python",
   "name": "python3"
  },
  "language_info": {
   "codemirror_mode": {
    "name": "ipython",
    "version": 3
   },
   "file_extension": ".py",
   "mimetype": "text/x-python",
   "name": "python",
   "nbconvert_exporter": "python",
   "pygments_lexer": "ipython3",
   "version": "3.13.1"
  }
 },
 "nbformat": 4,
 "nbformat_minor": 5
}
